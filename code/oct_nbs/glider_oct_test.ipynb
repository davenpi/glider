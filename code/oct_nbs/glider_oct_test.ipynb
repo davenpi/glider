{
 "cells": [
  {
   "cell_type": "code",
   "execution_count": 1,
   "id": "466eb3b6",
   "metadata": {},
   "outputs": [],
   "source": [
    "import casadi as ca\n",
    "import matplotlib.pyplot as plt\n",
    "import numpy as np\n",
    "import model_equations as me"
   ]
  },
  {
   "cell_type": "code",
   "execution_count": null,
   "id": "fd2bf71d",
   "metadata": {},
   "outputs": [],
   "source": [
    "from casadi import *\n",
    "\n",
    "T = 17.0  # time horizon\n",
    "N = 20  # number of control intervals\n",
    "\n",
    "# declare model variables\n",
    "u = MX.sym(\"u\")\n",
    "v = MX.sym(\"v\")\n",
    "w = MX.sym(\"w\")\n",
    "x = MX.sym(\"x\")\n",
    "y = MX.sym(\"y\")\n",
    "theta = MX.sym(\"theta\")\n",
    "beta = MX.sym(\"beta\")\n",
    "state = vertcat(u, v, w, x, y, theta, beta)\n",
    "db_dt = MX.sym(\"db_dt\")\n",
    "\n",
    "# model equations\n",
    "xdot = vertcat(\n",
    "    ((me.m1(beta) - m2) * s[0] * s[1] - self.M(w=s[2], beta=s[6])) / (I_tot)\n",
    "    u * np.cos(theta) - v * np.sin(theta),\n",
    "    u * np.sin(theta) + v * np.cos(theta),\n",
    "    w,\n",
    "    db_dt,\n",
    ")"
   ]
  }
 ],
 "metadata": {
  "kernelspec": {
   "display_name": "gliding",
   "language": "python",
   "name": "gliding"
  },
  "language_info": {
   "codemirror_mode": {
    "name": "ipython",
    "version": 3
   },
   "file_extension": ".py",
   "mimetype": "text/x-python",
   "name": "python",
   "nbconvert_exporter": "python",
   "pygments_lexer": "ipython3",
   "version": "3.7.4"
  }
 },
 "nbformat": 4,
 "nbformat_minor": 5
}
