{
 "cells": [
  {
   "cell_type": "code",
   "execution_count": 1,
   "id": "64ea9045",
   "metadata": {},
   "outputs": [
    {
     "name": "stderr",
     "output_type": "stream",
     "text": [
      "/Users/iandavenport/Desktop/research/projects/gliding/venv/lib/python3.7/site-packages/tqdm/auto.py:22: TqdmWarning: IProgress not found. Please update jupyter and ipywidgets. See https://ipywidgets.readthedocs.io/en/stable/user_install.html\n",
      "  from .autonotebook import tqdm as notebook_tqdm\n"
     ]
    }
   ],
   "source": [
    "import numpy as np\n",
    "import matplotlib.pyplot as plt\n",
    "from glider import Glider\n",
    "from stable_baselines3 import PPO\n",
    "from stable_baselines3.common.callbacks import CheckpointCallback\n",
    "import pickle\n",
    "from stable_baselines3.common.env_checker import check_env\n",
    "from matplotlib.patches import Ellipse"
   ]
  },
  {
   "cell_type": "code",
   "execution_count": 2,
   "id": "22ab170c",
   "metadata": {},
   "outputs": [
    {
     "name": "stderr",
     "output_type": "stream",
     "text": [
      "/Users/iandavenport/Desktop/research/projects/gliding/venv/lib/python3.7/site-packages/gym/spaces/box.py:74: UserWarning: \u001b[33mWARN: Box bound precision lowered by casting to float32\u001b[0m\n",
      "  \"Box bound precision lowered by casting to {}\".format(self.dtype)\n"
     ]
    }
   ],
   "source": [
    "glider = Glider(u0=0.0, v0=0.01, w0=0.0, rho_s=1, rho_f=-10)\n",
    "\n",
    "checkpoint_callback = CheckpointCallback(\n",
    "    save_freq=50_000,\n",
    "    save_path=\"./big_state_models/\",\n",
    "    name_prefix=\"rl_model\",\n",
    ")"
   ]
  },
  {
   "cell_type": "code",
   "execution_count": 3,
   "id": "f222d3ba",
   "metadata": {},
   "outputs": [],
   "source": [
    "for i in range(50):\n",
    "    glider.forward(0)"
   ]
  },
  {
   "cell_type": "code",
   "execution_count": 4,
   "id": "00df5714",
   "metadata": {},
   "outputs": [
    {
     "data": {
      "text/plain": [
       "[0,\n",
       " 3.6697145605062456e-05,\n",
       " -0.0042582120377297784,\n",
       " -0.009191012258352775,\n",
       " -0.018955688309654564,\n",
       " -0.031482392180825845,\n",
       " -0.043849555025821996,\n",
       " -0.06550005835101169,\n",
       " -0.07854121703247863,\n",
       " -0.11030904183310544,\n",
       " -0.1225009564573554,\n",
       " -0.16502487554490164,\n",
       " -0.1750983340715934,\n",
       " -0.22872969462068432,\n",
       " -0.23563495376163004,\n",
       " -0.30047970752896525,\n",
       " -0.30337640759140927,\n",
       " -0.37758091557127194,\n",
       " -0.45752307846000684,\n",
       " -0.5425120563691556,\n",
       " -0.6319042200133244,\n",
       " -0.72511082991023,\n",
       " -0.8216015783938322,\n",
       " -0.9209049224205682,\n",
       " -1.0226060978137677,\n",
       " -1.1263435924009952,\n",
       " -1.2318047097560405,\n",
       " -1.3387207065309823,\n",
       " -1.446861851896821,\n",
       " -1.5560326453391629,\n",
       " -1.66606734077922,\n",
       " -1.7768258589977546,\n",
       " -1.888190123276554,\n",
       " -2.0000608212279296,\n",
       " -2.1123545753511395,\n",
       " -2.2250014928399198,\n",
       " -2.3379430590735737,\n",
       " -2.451130337137198,\n",
       " -2.5645224362132337,\n",
       " -2.6780852137468996,\n",
       " -2.7917901792031246,\n",
       " -2.9056135705249697,\n",
       " -3.0195355777641577,\n",
       " -3.1335396915928233,\n",
       " -3.2476121574135655,\n",
       " -3.3617415185087056,\n",
       " -3.4759182340914534,\n",
       " -3.590134360245674,\n",
       " -3.7043832835844253,\n",
       " -3.818659499044473,\n",
       " -3.93295842459153,\n",
       " -4.047276246766292,\n",
       " -4.161609791980535,\n",
       " -4.275956419299698,\n",
       " -4.390313931145233,\n",
       " -4.504680498935782,\n",
       " -4.619054601177784,\n",
       " -4.73343497192792,\n",
       " -4.847820557894446]"
      ]
     },
     "execution_count": 4,
     "metadata": {},
     "output_type": "execute_result"
    }
   ],
   "source": [
    "glider.y"
   ]
  },
  {
   "cell_type": "code",
   "execution_count": null,
   "id": "7bba4f26",
   "metadata": {},
   "outputs": [],
   "source": [
    "model = PPO(\"MlpPolicy\", glider, verbose=1, tensorboard_log=\"big_state_logs/\")\n",
    "model.learn(total_timesteps=5e5, callback=checkpoint_callback)"
   ]
  },
  {
   "cell_type": "code",
   "execution_count": null,
   "id": "ccd918ee",
   "metadata": {},
   "outputs": [],
   "source": [
    "glider = Glider(u0=0.25, v0=-0.25, w0=0.1)\n",
    "model = PPO.load(\"big_state_models/rl_model_500000_steps.zip\", env=glider)\n",
    "done = False\n",
    "obs = glider.reset()\n",
    "while not done:\n",
    "    action, _states = model.predict(obs, deterministic=True)\n",
    "    obs, reward, done, _ = glider.step(action.item())"
   ]
  },
  {
   "cell_type": "code",
   "execution_count": null,
   "id": "4d480edd",
   "metadata": {},
   "outputs": [],
   "source": [
    "plt.plot(glider.theta)"
   ]
  },
  {
   "cell_type": "code",
   "execution_count": null,
   "id": "f1fa6e86",
   "metadata": {},
   "outputs": [],
   "source": [
    "plt.scatter(glider.x, glider.y)"
   ]
  },
  {
   "cell_type": "code",
   "execution_count": null,
   "id": "6f4f13fc",
   "metadata": {},
   "outputs": [],
   "source": [
    "plt.plot(glider.beta)"
   ]
  },
  {
   "cell_type": "code",
   "execution_count": null,
   "id": "819efca6",
   "metadata": {},
   "outputs": [],
   "source": [
    "def save_history(glider: Glider, filename: str) -> None:\n",
    "    \"\"\"\n",
    "    Save the full history of the glider in a dictionary\n",
    "    \"\"\"\n",
    "    history = {\n",
    "        \"u\": glider.u,\n",
    "        \"v\": glider.v,\n",
    "        \"w\": glider.w,\n",
    "        \"x\": glider.x,\n",
    "        \"y\": glider.y,\n",
    "        \"theta\": glider.theta,\n",
    "        \"beta\": glider.beta,\n",
    "    }\n",
    "    with open(filename + \".pkl\", \"wb\") as f:\n",
    "        pickle.dump(history, f)"
   ]
  },
  {
   "cell_type": "code",
   "execution_count": null,
   "id": "b000cc92",
   "metadata": {},
   "outputs": [],
   "source": [
    "save_history(glider=glider, filename=\"history\")"
   ]
  },
  {
   "cell_type": "code",
   "execution_count": null,
   "id": "a8b71946",
   "metadata": {},
   "outputs": [],
   "source": [
    "# ell = Ellipse(\n",
    "#         xy = (1, 1),\n",
    "#         width = 1,\n",
    "#         height = 0.3,\n",
    "#         angle = np.rad2deg(np.pi/2.5)\n",
    "#         )\n",
    "# fig, ax = plt.subplots()\n",
    "# ax.add_artist(ell)\n",
    "# ax.set_xlim(-5, 5)\n",
    "# ax.set_ylim(-5, 5)\n",
    "# plt.show()"
   ]
  },
  {
   "cell_type": "code",
   "execution_count": null,
   "id": "0f0ce201",
   "metadata": {},
   "outputs": [],
   "source": []
  }
 ],
 "metadata": {
  "kernelspec": {
   "display_name": "gliding",
   "language": "python",
   "name": "gliding"
  },
  "language_info": {
   "codemirror_mode": {
    "name": "ipython",
    "version": 3
   },
   "file_extension": ".py",
   "mimetype": "text/x-python",
   "name": "python",
   "nbconvert_exporter": "python",
   "pygments_lexer": "ipython3",
   "version": "3.7.4"
  }
 },
 "nbformat": 4,
 "nbformat_minor": 5
}
