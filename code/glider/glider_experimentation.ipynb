{
 "cells": [
  {
   "cell_type": "code",
   "execution_count": null,
   "id": "3be70c4e",
   "metadata": {},
   "outputs": [],
   "source": [
    "import numpy as np\n",
    "import matplotlib.pyplot as plt\n",
    "from glider import Glider\n",
    "from stable_baselines3 import PPO\n",
    "from stable_baselines3.common.callbacks import CheckpointCallback\n",
    "import pickle\n",
    "from stable_baselines3.common.env_checker import check_env\n",
    "from matplotlib.patches import Ellipse"
   ]
  },
  {
   "cell_type": "code",
   "execution_count": null,
   "id": "25f386e6",
   "metadata": {},
   "outputs": [],
   "source": [
    "glider = Glider(v0=0.1, w0=0, theta0=0, u0=0, terminal_y=-100)\n",
    "for i in range(300):\n",
    "    action = 0 * np.random.choice([0, 1, 2])\n",
    "    glider.step(action)"
   ]
  },
  {
   "cell_type": "code",
   "execution_count": null,
   "id": "87786f12",
   "metadata": {},
   "outputs": [],
   "source": [
    "plt.plot(glider.x, glider.y)\n",
    "plt.xlabel(\"X\")\n",
    "plt.ylabel(\"Y\")\n",
    "plt.title(\"Trajectory\")\n",
    "plt.show()"
   ]
  },
  {
   "cell_type": "code",
   "execution_count": null,
   "id": "104106f9",
   "metadata": {},
   "outputs": [],
   "source": [
    "glider.y[-1]"
   ]
  },
  {
   "cell_type": "code",
   "execution_count": null,
   "id": "a822c77c",
   "metadata": {},
   "outputs": [],
   "source": []
  },
  {
   "cell_type": "code",
   "execution_count": null,
   "id": "5873812f",
   "metadata": {},
   "outputs": [],
   "source": [
    "glider = Glider()\n",
    "model = PPO.load(\"big_state_models/rl_model_400000_steps.zip\", env=glider)\n",
    "done = False\n",
    "obs = glider.reset()\n",
    "while not done:\n",
    "    action, _states = model.predict(obs, deterministic=True)\n",
    "    obs, reward, done, _ = glider.step(action.item())"
   ]
  },
  {
   "cell_type": "code",
   "execution_count": null,
   "id": "26f36e1f",
   "metadata": {},
   "outputs": [],
   "source": [
    "plt.plot(glider.theta)"
   ]
  },
  {
   "cell_type": "code",
   "execution_count": null,
   "id": "7d423df4",
   "metadata": {},
   "outputs": [],
   "source": [
    "plt.scatter(glider.x, glider.y)"
   ]
  },
  {
   "cell_type": "code",
   "execution_count": null,
   "id": "ff74fd1b",
   "metadata": {},
   "outputs": [],
   "source": [
    "beta = np.array(glider.beta)\n",
    "mass = glider.a(beta) * glider.b(beta)\n",
    "plt.plot(glider.t_hist, mass)"
   ]
  },
  {
   "cell_type": "code",
   "execution_count": null,
   "id": "ce9c6667",
   "metadata": {},
   "outputs": [],
   "source": [
    "np.min(mass), np.max(mass)"
   ]
  },
  {
   "cell_type": "code",
   "execution_count": null,
   "id": "f268b5b8",
   "metadata": {},
   "outputs": [],
   "source": []
  },
  {
   "cell_type": "code",
   "execution_count": null,
   "id": "7ee7f0bc",
   "metadata": {},
   "outputs": [],
   "source": []
  }
 ],
 "metadata": {
  "kernelspec": {
   "display_name": "gliding",
   "language": "python",
   "name": "gliding"
  },
  "language_info": {
   "codemirror_mode": {
    "name": "ipython",
    "version": 3
   },
   "file_extension": ".py",
   "mimetype": "text/x-python",
   "name": "python",
   "nbconvert_exporter": "python",
   "pygments_lexer": "ipython3",
   "version": "3.7.4"
  }
 },
 "nbformat": 4,
 "nbformat_minor": 5
}
