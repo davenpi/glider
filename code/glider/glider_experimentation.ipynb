{
 "cells": [
  {
   "cell_type": "code",
   "execution_count": null,
   "id": "af100064",
   "metadata": {},
   "outputs": [],
   "source": [
    "import numpy as np\n",
    "import matplotlib.pyplot as plt\n",
    "from glider import Glider\n",
    "from stable_baselines3 import PPO\n",
    "from stable_baselines3.common.callbacks import CheckpointCallback\n",
    "\n",
    "# from stable_baselines3.common.env_checker import check_env"
   ]
  },
  {
   "cell_type": "code",
   "execution_count": null,
   "id": "8b1aafdb",
   "metadata": {},
   "outputs": [],
   "source": [
    "glider = Glider(u0=0.25, v0=0.25, w0=0.1)\n",
    "\n",
    "checkpoint_callback = CheckpointCallback(\n",
    "    save_freq=50_000,\n",
    "    save_path=\"./big_state_models/\",\n",
    "    name_prefix=\"rl_model\",\n",
    ")"
   ]
  },
  {
   "cell_type": "code",
   "execution_count": null,
   "id": "e41922fe",
   "metadata": {},
   "outputs": [],
   "source": [
    "model = PPO(\"MlpPolicy\", glider, verbose=1, tensorboard_log=\"big_state_logs/\")\n",
    "model.learn(total_timesteps=6e5, callback=checkpoint_callback)"
   ]
  },
  {
   "cell_type": "code",
   "execution_count": null,
   "id": "f17c36b1",
   "metadata": {},
   "outputs": [],
   "source": [
    "glider = Glider(u0=0.25, v0=0.25, w0=0.1)\n",
    "model = PPO.load(\"big_state_models/rl_model_600000_steps.zip\", env=glider)\n",
    "done = False\n",
    "obs = glider.reset()\n",
    "while not done:\n",
    "    action, _states = model.predict(obs, deterministic=True)\n",
    "    obs, reward, done, _ = glider.step(action.item())"
   ]
  },
  {
   "cell_type": "code",
   "execution_count": null,
   "id": "c8682069",
   "metadata": {},
   "outputs": [],
   "source": [
    "plt.plot(glider.theta)"
   ]
  },
  {
   "cell_type": "code",
   "execution_count": null,
   "id": "7f5ee2dd",
   "metadata": {},
   "outputs": [],
   "source": [
    "plt.scatter(glider.x, glider.y)"
   ]
  },
  {
   "cell_type": "code",
   "execution_count": null,
   "id": "46150f3e",
   "metadata": {},
   "outputs": [],
   "source": [
    "plt.plot(glider.beta)"
   ]
  },
  {
   "cell_type": "markdown",
   "id": "8af0c12d",
   "metadata": {},
   "source": [
    "# I need to make sure that there are the same number of betas in the history as there are instances of state variables. That is what will allow me to do cool visualizations. I need the visualizations to really see what is going on. I will also be able to plot the other variables against beta if I do that. That's next. And more training and reward tuning."
   ]
  },
  {
   "cell_type": "code",
   "execution_count": null,
   "id": "cb354525",
   "metadata": {},
   "outputs": [],
   "source": [
    "len(glider.x), len(glider.beta)"
   ]
  },
  {
   "cell_type": "code",
   "execution_count": null,
   "id": "5530642f",
   "metadata": {},
   "outputs": [],
   "source": []
  },
  {
   "cell_type": "code",
   "execution_count": null,
   "id": "83915300",
   "metadata": {},
   "outputs": [],
   "source": []
  },
  {
   "cell_type": "code",
   "execution_count": null,
   "id": "af6a2908",
   "metadata": {},
   "outputs": [],
   "source": []
  },
  {
   "cell_type": "code",
   "execution_count": null,
   "id": "05f51714",
   "metadata": {},
   "outputs": [],
   "source": [
    "# model = PPO(\"MlpPolicy\", env=glider, verbose=1)\n",
    "# obs = glider.reset()\n",
    "# done = False\n",
    "# while not done:\n",
    "#     action, _states = model.predict(obs)\n",
    "#     obs, rewards, done, info = glider.step(action.item())"
   ]
  },
  {
   "cell_type": "code",
   "execution_count": null,
   "id": "31866c1e",
   "metadata": {},
   "outputs": [],
   "source": [
    "# print(f\"The x history is {glider.x}. The y history is {glider.y}. The theta history is {glider.theta}\")\n",
    "# print(f\"The u history is {glider.u}. The v history is {glider.v}. The w history is {glider.w}\")"
   ]
  },
  {
   "cell_type": "code",
   "execution_count": null,
   "id": "ae1293fa",
   "metadata": {},
   "outputs": [],
   "source": [
    "t_hist = np.concatenate(glider.t_hist[:])"
   ]
  },
  {
   "cell_type": "code",
   "execution_count": null,
   "id": "4bc69c1b",
   "metadata": {},
   "outputs": [],
   "source": [
    "plt.scatter(glider.x, glider.y)\n",
    "plt.xlabel(\"x\")\n",
    "plt.ylabel(\"y\")\n",
    "plt.title(\"Position of the cylinder over time\")\n",
    "plt.show()"
   ]
  },
  {
   "cell_type": "code",
   "execution_count": null,
   "id": "50834e0e",
   "metadata": {},
   "outputs": [],
   "source": []
  },
  {
   "cell_type": "code",
   "execution_count": null,
   "id": "d9ab1f4d",
   "metadata": {},
   "outputs": [],
   "source": [
    "plt.plot(t_hist, glider.u)\n",
    "plt.xlabel(\"time\")\n",
    "plt.ylabel(\"u\")\n",
    "plt.title(\"Horizontal speed over time\")\n",
    "plt.show()"
   ]
  },
  {
   "cell_type": "code",
   "execution_count": null,
   "id": "81f82e32",
   "metadata": {},
   "outputs": [],
   "source": [
    "plt.plot(t_hist, glider.v)\n",
    "plt.xlabel(\"time\")\n",
    "plt.ylabel(\"v\")\n",
    "plt.title(\"Vertical speed over time\")\n",
    "plt.show()"
   ]
  },
  {
   "cell_type": "code",
   "execution_count": null,
   "id": "1835e5aa",
   "metadata": {},
   "outputs": [],
   "source": [
    "plt.plot(glider.beta)\n",
    "plt.xlabel(\"Time\")\n",
    "plt.ylabel(r\"$\\beta$\", rotation=0)\n",
    "plt.title(\"Aspect ratio over time\")\n",
    "plt.show()"
   ]
  },
  {
   "cell_type": "code",
   "execution_count": null,
   "id": "8ec51180",
   "metadata": {},
   "outputs": [],
   "source": [
    "speeds = [glider.speed(u, v) for u, v in zip(glider.u, glider.v)]"
   ]
  },
  {
   "cell_type": "code",
   "execution_count": null,
   "id": "5cf00e50",
   "metadata": {},
   "outputs": [],
   "source": [
    "plt.plot(speeds)"
   ]
  },
  {
   "cell_type": "code",
   "execution_count": null,
   "id": "bbc4a8e6",
   "metadata": {},
   "outputs": [],
   "source": []
  },
  {
   "cell_type": "code",
   "execution_count": null,
   "id": "f120751e",
   "metadata": {},
   "outputs": [],
   "source": []
  }
 ],
 "metadata": {
  "kernelspec": {
   "display_name": "gliding",
   "language": "python",
   "name": "gliding"
  },
  "language_info": {
   "codemirror_mode": {
    "name": "ipython",
    "version": 3
   },
   "file_extension": ".py",
   "mimetype": "text/x-python",
   "name": "python",
   "nbconvert_exporter": "python",
   "pygments_lexer": "ipython3",
   "version": "3.7.4"
  }
 },
 "nbformat": 4,
 "nbformat_minor": 5
}
