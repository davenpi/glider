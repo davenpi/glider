{
 "cells": [
  {
   "cell_type": "code",
   "execution_count": null,
   "id": "995e1aba",
   "metadata": {},
   "outputs": [],
   "source": [
    "import numpy as np\n",
    "import matplotlib.pyplot as plt\n",
    "from glider import Glider\n",
    "from stable_baselines3 import PPO\n",
    "from stable_baselines3.common.callbacks import CheckpointCallback\n",
    "import pickle\n",
    "from stable_baselines3.common.env_checker import check_env\n",
    "from matplotlib.patches import Ellipse"
   ]
  },
  {
   "cell_type": "code",
   "execution_count": null,
   "id": "c7a3c923",
   "metadata": {},
   "outputs": [],
   "source": [
    "glider = Glider()\n",
    "checkpoint_callback = CheckpointCallback(\n",
    "    save_freq=50_000,\n",
    "    save_path=\"./big_state_models/\",\n",
    "    name_prefix=\"rl_model\",\n",
    ")"
   ]
  },
  {
   "cell_type": "code",
   "execution_count": null,
   "id": "66bf372e",
   "metadata": {},
   "outputs": [],
   "source": [
    "for i in range(40):\n",
    "    action = 1 * np.random.choice([0, 1, 2])\n",
    "    glider.step(action)"
   ]
  },
  {
   "cell_type": "code",
   "execution_count": null,
   "id": "c43924da",
   "metadata": {},
   "outputs": [],
   "source": [
    "plt.plot(glider.x, glider.y)\n",
    "plt.xlabel(\"X\")\n",
    "plt.ylabel(\"Y\")\n",
    "plt.title(\"Trajectory\")\n",
    "plt.show()"
   ]
  },
  {
   "cell_type": "code",
   "execution_count": null,
   "id": "60559c70",
   "metadata": {},
   "outputs": [],
   "source": []
  },
  {
   "cell_type": "code",
   "execution_count": null,
   "id": "c38bb26d",
   "metadata": {},
   "outputs": [],
   "source": [
    "glider = Glider()\n",
    "model = PPO.load(\"big_state_models/rl_model_400000_steps.zip\", env=glider)\n",
    "done = False\n",
    "obs = glider.reset()\n",
    "while not done:\n",
    "    action, _states = model.predict(obs, deterministic=True)\n",
    "    obs, reward, done, _ = glider.step(action.item())"
   ]
  },
  {
   "cell_type": "code",
   "execution_count": null,
   "id": "2821b0c8",
   "metadata": {},
   "outputs": [],
   "source": [
    "plt.plot(glider.theta)"
   ]
  },
  {
   "cell_type": "code",
   "execution_count": null,
   "id": "f46d0a94",
   "metadata": {},
   "outputs": [],
   "source": [
    "plt.scatter(glider.x, glider.y)"
   ]
  },
  {
   "cell_type": "code",
   "execution_count": null,
   "id": "2e2386c0",
   "metadata": {},
   "outputs": [],
   "source": [
    "beta = np.array(glider.beta)\n",
    "mass = glider.a(beta) * glider.b(beta)\n",
    "plt.plot(glider.t_hist, mass)"
   ]
  },
  {
   "cell_type": "code",
   "execution_count": null,
   "id": "d827f8d2",
   "metadata": {},
   "outputs": [],
   "source": [
    "np.min(mass), np.max(mass)"
   ]
  },
  {
   "cell_type": "code",
   "execution_count": null,
   "id": "1a7500bf",
   "metadata": {},
   "outputs": [],
   "source": []
  },
  {
   "cell_type": "code",
   "execution_count": null,
   "id": "72b967e6",
   "metadata": {},
   "outputs": [],
   "source": [
    "def save_history(glider: Glider, filename: str) -> None:\n",
    "    \"\"\"\n",
    "    Save the full history of the glider in a dictionary\n",
    "    \"\"\"\n",
    "    history = {\n",
    "        \"u\": glider.u,\n",
    "        \"v\": glider.v,\n",
    "        \"w\": glider.w,\n",
    "        \"x\": glider.x,\n",
    "        \"y\": glider.y,\n",
    "        \"theta\": glider.theta,\n",
    "        \"beta\": glider.beta,\n",
    "    }\n",
    "    with open(filename + \".pkl\", \"wb\") as f:\n",
    "        pickle.dump(history, f)"
   ]
  },
  {
   "cell_type": "code",
   "execution_count": null,
   "id": "bbe262dd",
   "metadata": {},
   "outputs": [],
   "source": [
    "save_history(glider=glider, filename=\"history\")"
   ]
  },
  {
   "cell_type": "code",
   "execution_count": null,
   "id": "2b33152e",
   "metadata": {},
   "outputs": [],
   "source": []
  }
 ],
 "metadata": {
  "kernelspec": {
   "display_name": "gliding",
   "language": "python",
   "name": "gliding"
  },
  "language_info": {
   "codemirror_mode": {
    "name": "ipython",
    "version": 3
   },
   "file_extension": ".py",
   "mimetype": "text/x-python",
   "name": "python",
   "nbconvert_exporter": "python",
   "pygments_lexer": "ipython3",
   "version": "3.7.4"
  }
 },
 "nbformat": 4,
 "nbformat_minor": 5
}
