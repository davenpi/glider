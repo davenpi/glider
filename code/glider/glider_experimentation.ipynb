{
 "cells": [
  {
   "cell_type": "code",
   "execution_count": null,
   "id": "c01606cb",
   "metadata": {},
   "outputs": [],
   "source": [
    "import numpy as np\n",
    "import matplotlib.pyplot as plt\n",
    "from glider import Glider\n",
    "from stable_baselines3 import PPO\n",
    "from stable_baselines3.common.callbacks import CheckpointCallback\n",
    "import pickle\n",
    "\n",
    "# from stable_baselines3.common.env_checker import check_env"
   ]
  },
  {
   "cell_type": "code",
   "execution_count": null,
   "id": "dfcd916e",
   "metadata": {},
   "outputs": [],
   "source": [
    "glider = Glider(u0=0.25, v0=0.25, w0=0.1)\n",
    "\n",
    "checkpoint_callback = CheckpointCallback(\n",
    "    save_freq=50_000,\n",
    "    save_path=\"./big_state_models/\",\n",
    "    name_prefix=\"rl_model\",\n",
    ")"
   ]
  },
  {
   "cell_type": "code",
   "execution_count": null,
   "id": "c41d24b7",
   "metadata": {},
   "outputs": [],
   "source": []
  },
  {
   "cell_type": "code",
   "execution_count": null,
   "id": "2b7f698b",
   "metadata": {},
   "outputs": [],
   "source": [
    "glider.beta, glider.u, glider.v, glider.w, glider.x, glider.y, glider.theta"
   ]
  },
  {
   "cell_type": "code",
   "execution_count": null,
   "id": "e5cd1157",
   "metadata": {},
   "outputs": [],
   "source": [
    "glider.step(1)"
   ]
  },
  {
   "cell_type": "code",
   "execution_count": null,
   "id": "d761feb2",
   "metadata": {},
   "outputs": [],
   "source": [
    "len(glider.u)"
   ]
  },
  {
   "cell_type": "code",
   "execution_count": null,
   "id": "b41a73e6",
   "metadata": {},
   "outputs": [],
   "source": [
    "model = PPO(\"MlpPolicy\", glider, verbose=1, tensorboard_log=\"big_state_logs/\")\n",
    "model.learn(total_timesteps=6e5, callback=checkpoint_callback)"
   ]
  },
  {
   "cell_type": "code",
   "execution_count": null,
   "id": "10127c95",
   "metadata": {},
   "outputs": [],
   "source": [
    "glider = Glider(u0=0.25, v0=-0.25, w0=0.1)\n",
    "model = PPO.load(\"big_state_models/rl_model_600000_steps.zip\", env=glider)\n",
    "done = False\n",
    "obs = glider.reset()\n",
    "while not done:\n",
    "    action, _states = model.predict(obs, deterministic=True)\n",
    "    obs, reward, done, _ = glider.step(action.item())"
   ]
  },
  {
   "cell_type": "code",
   "execution_count": null,
   "id": "3c4ba4a7",
   "metadata": {},
   "outputs": [],
   "source": [
    "plt.plot(glider.theta)"
   ]
  },
  {
   "cell_type": "code",
   "execution_count": null,
   "id": "0f64546e",
   "metadata": {},
   "outputs": [],
   "source": [
    "plt.scatter(glider.x, glider.y)"
   ]
  },
  {
   "cell_type": "code",
   "execution_count": null,
   "id": "6158c3eb",
   "metadata": {},
   "outputs": [],
   "source": [
    "plt.plot(glider.beta)"
   ]
  },
  {
   "cell_type": "code",
   "execution_count": null,
   "id": "4ba4c9c1",
   "metadata": {},
   "outputs": [],
   "source": [
    "def save_history(glider: Glider, filename: str) -> None:\n",
    "    \"\"\"\n",
    "    Save the full history of the glider in a dictionary\n",
    "    \"\"\"\n",
    "    history = {\n",
    "        \"u\": glider.u,\n",
    "        \"v\": glider.v,\n",
    "        \"w\": glider.w,\n",
    "        \"x\": glider.x,\n",
    "        \"y\": glider.y,\n",
    "        \"theta\": glider.theta,\n",
    "        \"beta\": glider.beta,\n",
    "    }\n",
    "    with open(filename + \".pkl\", \"wb\") as f:\n",
    "        pickle.dump(history, f)"
   ]
  },
  {
   "cell_type": "code",
   "execution_count": null,
   "id": "0b53e83f",
   "metadata": {},
   "outputs": [],
   "source": [
    "save_history(glider=glider, filename=\"history\")"
   ]
  },
  {
   "cell_type": "code",
   "execution_count": null,
   "id": "238695b9",
   "metadata": {},
   "outputs": [],
   "source": []
  },
  {
   "cell_type": "code",
   "execution_count": null,
   "id": "74a4e0e5",
   "metadata": {},
   "outputs": [],
   "source": [
    "# model = PPO(\"MlpPolicy\", env=glider, verbose=1)\n",
    "# obs = glider.reset()\n",
    "# done = False\n",
    "# while not done:\n",
    "#     action, _states = model.predict(obs)\n",
    "#     obs, rewards, done, info = glider.step(action.item())"
   ]
  },
  {
   "cell_type": "code",
   "execution_count": null,
   "id": "e3a20868",
   "metadata": {},
   "outputs": [],
   "source": []
  },
  {
   "cell_type": "code",
   "execution_count": null,
   "id": "9438bd63",
   "metadata": {},
   "outputs": [],
   "source": []
  }
 ],
 "metadata": {
  "kernelspec": {
   "display_name": "gliding",
   "language": "python",
   "name": "gliding"
  },
  "language_info": {
   "codemirror_mode": {
    "name": "ipython",
    "version": 3
   },
   "file_extension": ".py",
   "mimetype": "text/x-python",
   "name": "python",
   "nbconvert_exporter": "python",
   "pygments_lexer": "ipython3",
   "version": "3.7.4"
  }
 },
 "nbformat": 4,
 "nbformat_minor": 5
}
