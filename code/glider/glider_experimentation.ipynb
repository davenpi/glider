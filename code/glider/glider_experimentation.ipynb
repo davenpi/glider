{
 "cells": [
  {
   "cell_type": "code",
   "execution_count": null,
   "id": "89c44301",
   "metadata": {},
   "outputs": [],
   "source": [
    "import numpy as np\n",
    "import matplotlib.pyplot as plt\n",
    "from glider import Glider\n",
    "from stable_baselines3 import PPO\n",
    "from stable_baselines3.common.callbacks import CheckpointCallback\n",
    "import pickle\n",
    "from stable_baselines3.common.env_checker import check_env\n",
    "from matplotlib.patches import Ellipse"
   ]
  },
  {
   "cell_type": "code",
   "execution_count": null,
   "id": "d3dc320f",
   "metadata": {},
   "outputs": [],
   "source": [
    "glider = Glider(u0=0.0, v0=0.01, w0=0.0)\n",
    "\n",
    "checkpoint_callback = CheckpointCallback(\n",
    "    save_freq=50_000,\n",
    "    save_path=\"./big_state_models/\",\n",
    "    name_prefix=\"rl_model\",\n",
    ")"
   ]
  },
  {
   "cell_type": "code",
   "execution_count": null,
   "id": "d58cffe6",
   "metadata": {},
   "outputs": [],
   "source": [
    "model = PPO(\"MlpPolicy\", glider, verbose=1, tensorboard_log=\"big_state_logs/\")\n",
    "model.learn(total_timesteps=5e5, callback=checkpoint_callback)"
   ]
  },
  {
   "cell_type": "code",
   "execution_count": null,
   "id": "d1e9481f",
   "metadata": {},
   "outputs": [],
   "source": [
    "glider = Glider(u0=0.25, v0=-0.25, w0=0.1)\n",
    "model = PPO.load(\"big_state_models/rl_model_500000_steps.zip\", env=glider)\n",
    "done = False\n",
    "obs = glider.reset()\n",
    "while not done:\n",
    "    action, _states = model.predict(obs, deterministic=True)\n",
    "    obs, reward, done, _ = glider.step(action.item())"
   ]
  },
  {
   "cell_type": "code",
   "execution_count": null,
   "id": "7e463dec",
   "metadata": {},
   "outputs": [],
   "source": [
    "plt.plot(glider.theta)"
   ]
  },
  {
   "cell_type": "code",
   "execution_count": null,
   "id": "96e7422c",
   "metadata": {},
   "outputs": [],
   "source": [
    "plt.scatter(glider.x, glider.y)"
   ]
  },
  {
   "cell_type": "code",
   "execution_count": null,
   "id": "b53166bd",
   "metadata": {},
   "outputs": [],
   "source": [
    "plt.plot(glider.beta)"
   ]
  },
  {
   "cell_type": "code",
   "execution_count": null,
   "id": "523edad4",
   "metadata": {},
   "outputs": [],
   "source": [
    "def save_history(glider: Glider, filename: str) -> None:\n",
    "    \"\"\"\n",
    "    Save the full history of the glider in a dictionary\n",
    "    \"\"\"\n",
    "    history = {\n",
    "        \"u\": glider.u,\n",
    "        \"v\": glider.v,\n",
    "        \"w\": glider.w,\n",
    "        \"x\": glider.x,\n",
    "        \"y\": glider.y,\n",
    "        \"theta\": glider.theta,\n",
    "        \"beta\": glider.beta,\n",
    "    }\n",
    "    with open(filename + \".pkl\", \"wb\") as f:\n",
    "        pickle.dump(history, f)"
   ]
  },
  {
   "cell_type": "code",
   "execution_count": null,
   "id": "0a2e1cd5",
   "metadata": {},
   "outputs": [],
   "source": [
    "save_history(glider=glider, filename=\"history\")"
   ]
  },
  {
   "cell_type": "code",
   "execution_count": null,
   "id": "751c2628",
   "metadata": {},
   "outputs": [],
   "source": [
    "# ell = Ellipse(\n",
    "#         xy = (1, 1),\n",
    "#         width = 1,\n",
    "#         height = 0.3,\n",
    "#         angle = np.rad2deg(np.pi/2.5)\n",
    "#         )\n",
    "# fig, ax = plt.subplots()\n",
    "# ax.add_artist(ell)\n",
    "# ax.set_xlim(-5, 5)\n",
    "# ax.set_ylim(-5, 5)\n",
    "# plt.show()"
   ]
  },
  {
   "cell_type": "code",
   "execution_count": null,
   "id": "b37946ab",
   "metadata": {},
   "outputs": [],
   "source": []
  }
 ],
 "metadata": {
  "kernelspec": {
   "display_name": "gliding",
   "language": "python",
   "name": "gliding"
  },
  "language_info": {
   "codemirror_mode": {
    "name": "ipython",
    "version": 3
   },
   "file_extension": ".py",
   "mimetype": "text/x-python",
   "name": "python",
   "nbconvert_exporter": "python",
   "pygments_lexer": "ipython3",
   "version": "3.7.4"
  }
 },
 "nbformat": 4,
 "nbformat_minor": 5
}
