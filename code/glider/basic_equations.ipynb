{
 "cells": [
  {
   "cell_type": "code",
   "execution_count": 1,
   "id": "f4d69741",
   "metadata": {},
   "outputs": [],
   "source": [
    "import numpy as np\n",
    "from scipy.integrate import solve_ivp"
   ]
  },
  {
   "cell_type": "code",
   "execution_count": 1,
   "id": "bb3de619",
   "metadata": {},
   "outputs": [],
   "source": [
    "def dynamics_eqn(t: float, y: np.ndarray) -> np.ndarray:\n",
    "    \"\"\"\n",
    "    Give the dynamics of the system at a given time.\n",
    "\n",
    "    Input the time and the state and return the dynamics\n",
    "    describing how the state will evolve over time. The state\n",
    "    of the system is y = (u, v, w, x, y, \\theta)\n",
    "\n",
    "    Parameters\n",
    "    ----------\n",
    "    t : float\n",
    "        Current time.\n",
    "    y : np.ndarray\n",
    "        State of the system.\n",
    "\n",
    "    Returns\n",
    "    -------\n",
    "    dy_dt : np.ndarray\n",
    "        Vector containing equations for evolution of state\n",
    "        variables.\n",
    "    \"\"\"\n",
    "    u_dot = (I + 1) * y[1] * y[2] - gamma * y[1] - np.sin(y[5]) - F"
   ]
  },
  {
   "cell_type": "code",
   "execution_count": 2,
   "id": "0c32aeb3",
   "metadata": {},
   "outputs": [],
   "source": []
  },
  {
   "cell_type": "code",
   "execution_count": null,
   "id": "2cc6fd8f",
   "metadata": {},
   "outputs": [],
   "source": []
  }
 ],
 "metadata": {
  "kernelspec": {
   "display_name": "gliding",
   "language": "python",
   "name": "gliding"
  },
  "language_info": {
   "codemirror_mode": {
    "name": "ipython",
    "version": 3
   },
   "file_extension": ".py",
   "mimetype": "text/x-python",
   "name": "python",
   "nbconvert_exporter": "python",
   "pygments_lexer": "ipython3",
   "version": "3.7.4"
  }
 },
 "nbformat": 4,
 "nbformat_minor": 5
}
