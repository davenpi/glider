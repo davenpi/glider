{
 "cells": [
  {
   "cell_type": "code",
   "execution_count": 1,
   "id": "2b3ad25c",
   "metadata": {},
   "outputs": [],
   "source": [
    "import numpy as np\n",
    "from scipy.integrate import solve_ivp"
   ]
  },
  {
   "cell_type": "code",
   "execution_count": 1,
   "id": "990faf35",
   "metadata": {},
   "outputs": [],
   "source": [
    "def dynamics_eqn(t: float, y: np.ndarray) -> np.ndarray:\n",
    "    \"\"\"\n",
    "    Give the dynamics of the system at a given time.\n",
    "    \n",
    "    Input the time and the state and return the dynamics\n",
    "    describing how the state will evolve over time.\n",
    "    \n",
    "    Parameters\n",
    "    ----------\n",
    "    t : \"\"\""
   ]
  },
  {
   "cell_type": "code",
   "execution_count": 2,
   "id": "7b809823",
   "metadata": {},
   "outputs": [],
   "source": []
  },
  {
   "cell_type": "code",
   "execution_count": null,
   "id": "012a386a",
   "metadata": {},
   "outputs": [],
   "source": []
  }
 ],
 "metadata": {
  "kernelspec": {
   "display_name": "gliding",
   "language": "python",
   "name": "gliding"
  },
  "language_info": {
   "codemirror_mode": {
    "name": "ipython",
    "version": 3
   },
   "file_extension": ".py",
   "mimetype": "text/x-python",
   "name": "python",
   "nbconvert_exporter": "python",
   "pygments_lexer": "ipython3",
   "version": "3.7.4"
  }
 },
 "nbformat": 4,
 "nbformat_minor": 5
}
