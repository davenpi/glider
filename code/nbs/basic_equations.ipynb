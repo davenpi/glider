{
 "cells": [
  {
   "cell_type": "code",
   "execution_count": 2,
   "id": "bfc4c9de",
   "metadata": {},
   "outputs": [],
   "source": [
    "import numpy as np\n",
    "from scipy.integrate import solve_ivp"
   ]
  },
  {
   "cell_type": "markdown",
   "id": "bcde5c43",
   "metadata": {},
   "source": [
    "## First we need the equations of motion describing our system\n",
    "\n",
    "\\begin{equation}\n",
    "\\dot{u} = \\frac{(m+m_2)vw - \\rho_f\\Gamma v - \\pi(\\rho_s - \\rho_f)abgsin\\theta - F}{m+m_1} \\\\\n",
    "\\dot{v} =  \\frac{-(m+m_1)uw + \\rho_f\\Gamma u - \\pi(\\rho_s - \\rho_f)abgcos\\theta - G}{m+m_2} \\\\\n",
    "\\dot{w} = \\frac{(m_1 - m_2)uv + \\tau - M}{I + I_a} \\\\\n",
    "\\dot{x} = ucos\\theta - vsin\\theta \\\\\n",
    "\\dot{y} = usin\\theta + vcos\\theta \\\\\n",
    "\\dot{\\theta} = w\n",
    "\\end{equation}\n",
    "\n",
    "where \n",
    "\n",
    "\\begin{equation}\n",
    "m = \\pi \\rho_s ab \\\\\n",
    "I = \\frac{\\pi \\rho_s ab(a^2 + b^2)}{4} \\\\\n",
    "m_1 = \\pi \\rho_f b^2 \\\\\n",
    "m_2 = \\pi \\rho_f a^2 \\\\\n",
    "I_a = \\frac{\\pi \\rho_f (a^2 - b^2)^2}{8}\n",
    "\\end{equation}\n",
    "\n",
    "and the fluid forces (F, G), torque (M), and circulation ($\\Gamma$) are given by \n",
    "\n",
    "\\begin{equation}\n",
    "\\Gamma = -2C_Ta\\frac{uv}{\\sqrt{u^2+v^2}} + 2C_Ra^2w \\\\\n",
    "F = \\rho_f a \\left( A - B\\frac{u^2 - v^2}{u^2 + v^2}\\right)\\sqrt{u^2 + v^2}u \\\\\n",
    "G = \\rho_f a \\left( A - B\\frac{u^2 - v^2}{u^2 + v^2}\\right)\\sqrt{u^2 + v^2}v \\\\\n",
    "M = \\pi \\rho_f a^4 \\left( \\frac{V}{L} \\mu_\\tau + \\nu_\\tau |w|\\right)w\n",
    "\\end{equation}\n",
    "\n",
    "where \n",
    "\n",
    "\\begin{equation}\n",
    "L = a \\\\\n",
    "V = \\sqrt{\\left(\\frac{\\rho_s}{\\rho_f} -1\\right)gb} \\\\\n",
    "C_T = 1.2 \\\\\n",
    "C_R = \\pi \\\\\n",
    "A = 1.4 \\\\\n",
    "B = 1.0 \\\\ \n",
    "\\mu_\\tau = \\nu_\\tau = 0.2\n",
    "\\end{equation}\n",
    "\n",
    "Okay so those are all the equations and sub functions. The point is that now I need to define all these variables and implement the equations."
   ]
  }
 ],
 "metadata": {
  "kernelspec": {
   "display_name": "gliding",
   "language": "python",
   "name": "gliding"
  },
  "language_info": {
   "codemirror_mode": {
    "name": "ipython",
    "version": 3
   },
   "file_extension": ".py",
   "mimetype": "text/x-python",
   "name": "python",
   "nbconvert_exporter": "python",
   "pygments_lexer": "ipython3",
   "version": "3.7.4"
  }
 },
 "nbformat": 4,
 "nbformat_minor": 5
}
