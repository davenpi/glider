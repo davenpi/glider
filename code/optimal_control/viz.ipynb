{
 "cells": [
  {
   "cell_type": "code",
   "execution_count": null,
   "id": "11229b10",
   "metadata": {},
   "outputs": [],
   "source": [
    "import numpy as np\n",
    "import matplotlib.pyplot as plt\n",
    "import pickle"
   ]
  },
  {
   "cell_type": "code",
   "execution_count": null,
   "id": "ff37a9e6",
   "metadata": {},
   "outputs": [],
   "source": [
    "base_dir = \"yf10_xf12/\"\n",
    "time_opt = base_dir + \"time_opt/\"\n",
    "energy_opt = base_dir + \"energy_opt/\"\n",
    "\n",
    "# load in time optimal solution\n",
    "x_t, u_t = np.load(time_opt + \"x_opt.npy\"), np.load(time_opt + \"u_opt.npy\")\n",
    "with open(time_opt + \"solx.pkl\", \"rb\") as file:\n",
    "    sol_t = pickle.load(file)\n",
    "\n",
    "# load in energy optimal solution\n",
    "x_e, u_e = np.load(energy_opt + \"x_opt.npy\"), np.load(energy_opt + \"u_opt.npy\")\n",
    "with open(energy_opt + \"solx.pkl\", \"rb\") as file:\n",
    "    sol_e = pickle.load(file)"
   ]
  },
  {
   "cell_type": "code",
   "execution_count": null,
   "id": "239fdfbb",
   "metadata": {},
   "outputs": [],
   "source": [
    "t_opt_t = 6.52678\n",
    "e_opt_t = 7.67081"
   ]
  },
  {
   "cell_type": "code",
   "execution_count": null,
   "id": "48a33ac3",
   "metadata": {},
   "outputs": [],
   "source": [
    "# overlay the controls for each optimal problem\n",
    "fig, ax = plt.subplots()\n",
    "t_t = np.linspace(start=0, stop=t_opt_t, num=u_t[0].size)\n",
    "t_e = np.linspace(start=0, stop=e_opt_t, num=u_e[0].size)\n",
    "ax.plot(t_t, u_t[0], label=\"Time optimal\")\n",
    "ax.plot(t_e, u_e[0], label=\"Energy optimal\")\n",
    "ax.set_title(\"Time and energy optimal controls\")\n",
    "ax.set_xlabel(\"time (s)\")\n",
    "ax.set_ylabel(r\"$\\dot{\\beta}$\")\n",
    "ax.get_yaxis().set_ticks([-1, 0, 1])\n",
    "ax.get_xaxis().set_ticks([0, 2, 4, 6, 8])\n",
    "ax.spines[\"top\"].set_visible(False)\n",
    "ax.spines[\"right\"].set_visible(False)\n",
    "# ax.legend((\"Time optimal\", \"Energy optimal\"), )\n",
    "# ax.legend(loc='center left', bbox_to_anchor=(1, 0.5))\n",
    "ax.legend(\n",
    "    loc=\"lower center\", bbox_to_anchor=(1.2, 0.8), fancybox=True, shadow=True, ncol=5\n",
    ")\n",
    "\n",
    "plt.savefig(\"energy_and_time_controls.png\", bbox_inches=\"tight\")\n",
    "plt.show()"
   ]
  },
  {
   "cell_type": "code",
   "execution_count": null,
   "id": "ac0217dd",
   "metadata": {},
   "outputs": [],
   "source": [
    "# overlay the trajectories for each optimal problem\n",
    "fig, ax = plt.subplots()\n",
    "ax.plot(x_t[3], x_t[4], label=\"Time optimal\")\n",
    "ax.plot(x_e[3], x_e[4], label=\"Energy optimal\")\n",
    "ax.set_title(\"Energy and time optimal trajectories\")\n",
    "ax.set_xlabel(\"x (m)\")\n",
    "ax.set_ylabel(\"y (m)\")\n",
    "# ax.get_yaxis().set_ticks([-1,0,1])\n",
    "# ax.get_xaxis().set_ticks([0, 2, 4, 6, 8])\n",
    "ax.spines[\"top\"].set_visible(False)\n",
    "ax.spines[\"right\"].set_visible(False)\n",
    "# ax.legend((\"Time optimal\", \"Energy optimal\"), )\n",
    "# ax.legend(loc='center left', bbox_to_anchor=(1, 0.5))\n",
    "ax.legend(\n",
    "    loc=\"lower center\", bbox_to_anchor=(1, 0.5), fancybox=True, shadow=True, ncol=5\n",
    ")\n",
    "\n",
    "plt.savefig(\"time_energy_opt_trajectories.png\", bbox_inches=\"tight\")\n",
    "plt.show()"
   ]
  },
  {
   "cell_type": "code",
   "execution_count": null,
   "id": "9554d089",
   "metadata": {},
   "outputs": [],
   "source": [
    "fig, ax = plt.subplots(nrows=2, ncols=1, figsize=(10, 10))\n",
    "t_t = np.linspace(start=0, stop=t_opt_t, num=u_t[0].size)\n",
    "t_e = np.linspace(start=0, stop=e_opt_t, num=u_e[0].size)\n",
    "ax[0].plot(t_t, u_t[0], label=\"Time optimal\")\n",
    "ax[0].plot(t_e, u_e[0], label=\"Energy optimal\")\n",
    "ax[0].set_title(\"Time and energy optimal controls\")\n",
    "ax[0].set_xlabel(\"time (s)\")\n",
    "ax[0].set_ylabel(r\"$U(t) = \\dot{\\beta}(t)$\")\n",
    "ax[0].get_yaxis().set_ticks([-1, 0, 1])\n",
    "ax[0].get_xaxis().set_ticks([0, 2, 4, 6, 8])\n",
    "ax[0].spines[\"top\"].set_visible(False)\n",
    "ax[0].spines[\"right\"].set_visible(False)\n",
    "# ax.legend((\"Time optimal\", \"Energy optimal\"), )\n",
    "# ax.legend(loc='center left', bbox_to_anchor=(1, 0.5))\n",
    "ax[0].legend(\n",
    "    loc=\"lower center\", bbox_to_anchor=(1.0, 0.0), fancybox=True, shadow=True, ncol=1\n",
    ")\n",
    "\n",
    "ax[1].plot(x_t[3], x_t[4], label=\"Time optimal\")\n",
    "ax[1].plot(x_e[3], x_e[4], label=\"Energy optimal\")\n",
    "ax[1].set_title(\"Time and energy optimal trajectories\")\n",
    "ax[1].set_xlabel(\"x (m)\")\n",
    "ax[1].set_ylabel(\"y (m)\")\n",
    "# ax.get_yaxis().set_ticks([-1,0,1])\n",
    "# ax.get_xaxis().set_ticks([0, 2, 4, 6, 8])\n",
    "ax[1].spines[\"top\"].set_visible(False)\n",
    "ax[1].spines[\"right\"].set_visible(False)\n",
    "# ax.legend((\"Time optimal\", \"Energy optimal\"), )\n",
    "# ax.legend(loc='center left', bbox_to_anchor=(1, 0.5))\n",
    "# ax[1].legend(loc='lower center', bbox_to_anchor=(1, .5),\n",
    "#           fancybox=True, shadow=True, ncol=5)\n",
    "\n",
    "plt.savefig(\"time_energy_opt.png\", bbox_inches=\"tight\")\n",
    "plt.show()"
   ]
  },
  {
   "cell_type": "code",
   "execution_count": null,
   "id": "7ca16b31",
   "metadata": {},
   "outputs": [],
   "source": []
  },
  {
   "cell_type": "code",
   "execution_count": null,
   "id": "9fcfc444",
   "metadata": {},
   "outputs": [],
   "source": []
  },
  {
   "cell_type": "code",
   "execution_count": null,
   "id": "cf6fe5c4",
   "metadata": {},
   "outputs": [],
   "source": []
  },
  {
   "cell_type": "code",
   "execution_count": null,
   "id": "e4ad7960",
   "metadata": {},
   "outputs": [],
   "source": []
  },
  {
   "cell_type": "code",
   "execution_count": null,
   "id": "f5a6641c",
   "metadata": {},
   "outputs": [],
   "source": []
  },
  {
   "cell_type": "code",
   "execution_count": null,
   "id": "98a3d769",
   "metadata": {},
   "outputs": [],
   "source": []
  },
  {
   "cell_type": "code",
   "execution_count": null,
   "id": "52a9ce05",
   "metadata": {},
   "outputs": [],
   "source": []
  },
  {
   "cell_type": "code",
   "execution_count": null,
   "id": "bfe89a5e",
   "metadata": {},
   "outputs": [],
   "source": []
  },
  {
   "cell_type": "code",
   "execution_count": null,
   "id": "0549fbe2",
   "metadata": {},
   "outputs": [],
   "source": []
  },
  {
   "cell_type": "code",
   "execution_count": null,
   "id": "d6730d77",
   "metadata": {},
   "outputs": [],
   "source": []
  },
  {
   "cell_type": "code",
   "execution_count": null,
   "id": "44a38e08",
   "metadata": {},
   "outputs": [],
   "source": []
  },
  {
   "cell_type": "code",
   "execution_count": null,
   "id": "750652c6",
   "metadata": {},
   "outputs": [],
   "source": []
  },
  {
   "cell_type": "code",
   "execution_count": null,
   "id": "9e285d0c",
   "metadata": {},
   "outputs": [],
   "source": [
    "def visualize(x_opt: np.ndarray, u_opt: np.ndarray, t: float, file_name: str):\n",
    "    \"\"\"\n",
    "    Visualize the optimal solution and optimal control.\n",
    "\n",
    "    Parameters\n",
    "    ----------\n",
    "    t : float\n",
    "        The time the episode took.\n",
    "    \"\"\"\n",
    "    N = x_opt[0].size  # number of control intervals plus one\n",
    "    t_grid = np.linspace(start=0, stop=t, num=N)\n",
    "    fig, ax = plt.subplots(nrows=3, ncols=2, figsize=(10, 10))\n",
    "    u, v, w, x, y, theta, beta = (\n",
    "        x_opt[0],\n",
    "        x_opt[1],\n",
    "        x_opt[2],\n",
    "        x_opt[3],\n",
    "        x_opt[4],\n",
    "        x_opt[5],\n",
    "        x_opt[6],\n",
    "    )\n",
    "    db_dt = u_opt[0]\n",
    "    ax[0, 0].plot(t_grid, u)\n",
    "    ax[0, 0].set_title(\"u\")\n",
    "    ax[0, 1].plot(t_grid, v)\n",
    "    ax[0, 1].set_title(\"v\")\n",
    "    ax[1, 0].plot(t_grid, w)\n",
    "    ax[1, 0].set_title(\"w\")\n",
    "    ax[1, 1].plot(t_grid, theta)\n",
    "    ax[1, 1].set_title(r\"$\\theta$\")\n",
    "    ax[2, 0].plot(t_grid, beta)\n",
    "    ax[2, 0].plot(t_grid[:-1], db_dt)\n",
    "    ax[2, 0].legend([r\"$\\beta$\", r\"$\\dot{\\beta}$\"])\n",
    "    ax[2, 1].plot(x, y)\n",
    "    ax[2, 1].set_xlabel(\"x\")\n",
    "    ax[2, 1].set_ylabel(\"y\")\n",
    "    ax[2, 1].set_title(\"Trajectory\")\n",
    "    plt.savefig(fname=file_name)"
   ]
  },
  {
   "cell_type": "code",
   "execution_count": null,
   "id": "479fd4df",
   "metadata": {},
   "outputs": [],
   "source": [
    "visualize(x_t, u_t, t=6.52678, file_name=\"time_optimal.png\")"
   ]
  },
  {
   "cell_type": "code",
   "execution_count": null,
   "id": "95b6e3bb",
   "metadata": {},
   "outputs": [],
   "source": [
    "vol = 0.1\n",
    "beta = x_t[-1]\n",
    "t_avg_a = np.sqrt(vol / beta).mean()\n",
    "t_avg_b = np.sqrt(vol * beta).mean()"
   ]
  },
  {
   "cell_type": "code",
   "execution_count": null,
   "id": "fe16c890",
   "metadata": {},
   "outputs": [],
   "source": []
  }
 ],
 "metadata": {
  "kernelspec": {
   "display_name": "gliding",
   "language": "python",
   "name": "gliding"
  },
  "language_info": {
   "codemirror_mode": {
    "name": "ipython",
    "version": 3
   },
   "file_extension": ".py",
   "mimetype": "text/x-python",
   "name": "python",
   "nbconvert_exporter": "python",
   "pygments_lexer": "ipython3",
   "version": "3.7.4"
  }
 },
 "nbformat": 4,
 "nbformat_minor": 5
}
