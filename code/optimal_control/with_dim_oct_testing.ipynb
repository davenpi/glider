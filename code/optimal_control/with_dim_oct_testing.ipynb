{
 "cells": [
  {
   "cell_type": "code",
   "execution_count": null,
   "id": "1860d4b7",
   "metadata": {},
   "outputs": [],
   "source": [
    "from glider import glider\n",
    "import casadi as ca\n",
    "import numpy as np\n",
    "import matplotlib.pyplot as plt\n",
    "import pickle"
   ]
  },
  {
   "cell_type": "code",
   "execution_count": null,
   "id": "90afe6e4",
   "metadata": {},
   "outputs": [],
   "source": [
    "# N_list = [50, 100, 200, 400]\n",
    "N = 150\n",
    "solve_second_optim = False\n",
    "using_opt_guess = True\n",
    "use_upsampled_prior = False\n",
    "energy_optimal = False\n",
    "\n",
    "x_opt, u_opt, opt_guess, sol = glider(\n",
    "    N=N,\n",
    "    use_upsampled_prior=use_upsampled_prior,\n",
    "    y_f=-75,\n",
    "    x_f=25,\n",
    "    solve_2nd_optim=solve_second_optim,\n",
    "    using_opt_guess=using_opt_guess,\n",
    "    energy_optimal=energy_optimal,\n",
    ")"
   ]
  },
  {
   "cell_type": "code",
   "execution_count": null,
   "id": "0e2cd65e",
   "metadata": {},
   "outputs": [],
   "source": [
    "tgrid = np.linspace(0, 1, N + 1)\n",
    "final_x = x_opt[3][-1]\n",
    "print(f\"The final x is {final_x}\")\n",
    "\n",
    "# plot results\n",
    "fig, ax = plt.subplots(nrows=2, ncols=2, figsize=(12, 8))\n",
    "ax[0, 0].plot(x_opt[3], x_opt[4])\n",
    "ax[0, 0].set_title(\"Trajectory\")\n",
    "ax[0, 1].plot(tgrid, x_opt[-1])\n",
    "ax[0, 1].set_title(\"Beta\")\n",
    "ax[1, 0].plot(tgrid, x_opt[0])\n",
    "ax[1, 0].plot(tgrid, x_opt[1])\n",
    "ax[1, 0].legend((\"u\", \"v\"))\n",
    "ax[1, 1].plot(tgrid, np.append(np.nan, u_opt[0]))\n",
    "ax[1, 1].set_title(\"Control\")\n",
    "plt.show()"
   ]
  },
  {
   "cell_type": "code",
   "execution_count": null,
   "id": "a74b3a9a",
   "metadata": {},
   "outputs": [],
   "source": [
    "np.save(\"x_opt\", x_opt)\n",
    "np.save(\"u_opt\", u_opt)\n",
    "\n",
    "# Open a file and use dump()\n",
    "# if solve_second_optim:\n",
    "#     pass\n",
    "# else:\n",
    "#     with open(\"opt_guess_with_beta_dot.pkl\", \"wb\") as file:\n",
    "#         # A new file will be created\n",
    "#         pickle.dump(opt_guess, file)"
   ]
  },
  {
   "cell_type": "code",
   "execution_count": null,
   "id": "a951b955",
   "metadata": {},
   "outputs": [],
   "source": [
    "with open(\"opt_guess_with_dim.pkl\", \"wb\") as file:\n",
    "    # A new file will be created\n",
    "    pickle.dump(opt_guess, file)"
   ]
  },
  {
   "cell_type": "code",
   "execution_count": null,
   "id": "71aae0fb",
   "metadata": {},
   "outputs": [],
   "source": [
    "sol"
   ]
  },
  {
   "cell_type": "code",
   "execution_count": null,
   "id": "d639598c",
   "metadata": {},
   "outputs": [],
   "source": [
    "def construct_initial_guess_upsampled(\n",
    "    p0: float, x_opt: np.ndarray, u_opt: np.ndarray, N: int, new_N: int\n",
    ") -> list:\n",
    "    \"\"\"\n",
    "    Construct an initial guess using a given solution.\n",
    "\n",
    "    The initial guess has the form (p0, x0, u0, ....) where the\n",
    "    ... is the sequence of states and controls that follows the\n",
    "    initial state/control. The only trick is that the state\n",
    "    gets copied 4 times after each control. This method creates\n",
    "    a new \"upsampled\" guess based on a good old solution. By upsampled\n",
    "    I simply mean it will serve as a guess for a problem with a larger\n",
    "    N. I do the upsampling by simply repeating the state and control\n",
    "    from the end of the current solution.\n",
    "\n",
    "    Parameters\n",
    "    ----------\n",
    "    p0 : float\n",
    "        Initial guess for the parameter.\n",
    "    x_opt: np.ndarray\n",
    "        Array containing state along the optimal solution.\n",
    "    u_opt: np.ndarray\n",
    "        Arracy containing the control along the optimal trajectory.\n",
    "    N: int\n",
    "        Original number of control intervals.\n",
    "    new_N: int\n",
    "        New number of control intervals.\n",
    "    \"\"\"\n",
    "    w0 = [[p0]]\n",
    "    print(new_N)\n",
    "    for i in range(new_N + 1):\n",
    "        if i > N - 1:\n",
    "            k = -1\n",
    "        else:\n",
    "            k = i\n",
    "        state = list(x_opt[:, k])\n",
    "        if i == 0:\n",
    "            w0.append(state)\n",
    "            u = [u_opt[0, i]]\n",
    "            w0.append(u)\n",
    "        elif i == new_N:\n",
    "            for j in range(4):\n",
    "                w0.append(state)\n",
    "        elif i > 0 and i < new_N:\n",
    "            for j in range(4):\n",
    "                w0.append(state)\n",
    "            u = [u_opt[0, k]]\n",
    "            w0.append(u)\n",
    "    return w0\n",
    "\n",
    "\n",
    "upsamp = construct_initial_guess_upsampled(\n",
    "    p0=4.99, x_opt=x_opt, u_opt=u_opt, N=N, new_N=175\n",
    ")\n",
    "upsamp = np.concatenate(upsamp)"
   ]
  },
  {
   "cell_type": "code",
   "execution_count": null,
   "id": "09a82854",
   "metadata": {},
   "outputs": [],
   "source": [
    "upsamp"
   ]
  },
  {
   "cell_type": "code",
   "execution_count": null,
   "id": "2c554840",
   "metadata": {},
   "outputs": [],
   "source": [
    "np.save(\"upsamp_w0\", upsamp)"
   ]
  },
  {
   "cell_type": "code",
   "execution_count": null,
   "id": "24ab4cea",
   "metadata": {},
   "outputs": [],
   "source": [
    "# # generate the videos\n",
    "# create_video = solve_second_optim\n",
    "# if create_video:\n",
    "#     !python trajectory_viz.py\n",
    "#     if energy_optimal:\n",
    "#         !mkdir energy_opt\n",
    "#         !mv u_opt.npy x_opt.npy logged_info.png sample_oct.mp4 w0.npy double_w0.npy energy_opt\n",
    "#     else:\n",
    "#         !mkdir time_opt\n",
    "#         !mv u_opt.npy x_opt.npy logged_info.png sample_oct.mp4 w0.npy double_w0.npy time_opt"
   ]
  },
  {
   "cell_type": "code",
   "execution_count": null,
   "id": "d891d97d",
   "metadata": {},
   "outputs": [],
   "source": [
    "!python trajectory_viz.py -p \"./\""
   ]
  },
  {
   "cell_type": "code",
   "execution_count": null,
   "id": "fb6de89d",
   "metadata": {},
   "outputs": [],
   "source": [
    "!open sample_oct.mp4"
   ]
  },
  {
   "cell_type": "code",
   "execution_count": null,
   "id": "452db365",
   "metadata": {},
   "outputs": [],
   "source": [
    "a_arr = np.sqrt(0.1 / x_opt[-1])"
   ]
  },
  {
   "cell_type": "code",
   "execution_count": null,
   "id": "69944951",
   "metadata": {},
   "outputs": [],
   "source": []
  }
 ],
 "metadata": {
  "kernelspec": {
   "display_name": "gliding",
   "language": "python",
   "name": "gliding"
  },
  "language_info": {
   "codemirror_mode": {
    "name": "ipython",
    "version": 3
   },
   "file_extension": ".py",
   "mimetype": "text/x-python",
   "name": "python",
   "nbconvert_exporter": "python",
   "pygments_lexer": "ipython3",
   "version": "3.7.4"
  }
 },
 "nbformat": 4,
 "nbformat_minor": 5
}
