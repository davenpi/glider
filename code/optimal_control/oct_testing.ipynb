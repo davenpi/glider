{
 "cells": [
  {
   "cell_type": "code",
   "execution_count": 1,
   "id": "e07f64c7",
   "metadata": {},
   "outputs": [],
   "source": [
    "from glider import glider\n",
    "\n",
    "# from optimal_sol import time_glider\n",
    "import casadi as ca\n",
    "import numpy as np\n",
    "import matplotlib.pyplot as plt\n",
    "import pickle"
   ]
  },
  {
   "cell_type": "code",
   "execution_count": null,
   "id": "0062fdb5",
   "metadata": {},
   "outputs": [],
   "source": [
    "# N_list = [50, 100, 200, 400]\n",
    "N = 300\n",
    "solve_second_optim = True\n",
    "using_opt_guess = True\n",
    "use_upsampled_prior = False\n",
    "energy_optimal = True\n",
    "\n",
    "x_opt, u_opt, opt_guess, sol = glider(\n",
    "    N=N,\n",
    "    use_upsampled_prior=use_upsampled_prior,\n",
    "    y_f=-10,\n",
    "    x_f=12,\n",
    "    solve_2nd_optim=solve_second_optim,\n",
    "    using_opt_guess=using_opt_guess,\n",
    "    energy_optimal=energy_optimal,\n",
    ")\n",
    "# N = 300\n",
    "# x_opt, u_opt, sol_x, _ = time_glider(N = N, use_upsampled_prior=False, y_f=-10, x_f=10)"
   ]
  },
  {
   "cell_type": "code",
   "execution_count": null,
   "id": "5a406d0a",
   "metadata": {
    "jupyter": {
     "source_hidden": true
    }
   },
   "outputs": [],
   "source": [
    "tgrid = np.linspace(0, 1, N + 1)\n",
    "final_x = x_opt[3][-1]\n",
    "print(f\"The final x is {final_x}\")\n",
    "\n",
    "# plot results\n",
    "fig, ax = plt.subplots(nrows=2, ncols=2, figsize=(12, 8))\n",
    "ax[0, 0].plot(x_opt[3], x_opt[4])\n",
    "ax[0, 0].set_title(\"Trajectory\")\n",
    "ax[0, 1].plot(tgrid, x_opt[-1])\n",
    "ax[0, 1].set_title(\"Beta\")\n",
    "ax[1, 0].plot(tgrid, x_opt[0])\n",
    "ax[1, 0].plot(tgrid, x_opt[1])\n",
    "ax[1, 0].legend((\"u\", \"v\"))\n",
    "ax[1, 1].plot(tgrid, np.append(np.nan, u_opt[0]))\n",
    "ax[1, 1].set_title(\"Control\")\n",
    "plt.show()"
   ]
  },
  {
   "cell_type": "code",
   "execution_count": null,
   "id": "dcdef439",
   "metadata": {},
   "outputs": [],
   "source": [
    "np.save(\"x_opt\", x_opt)\n",
    "np.save(\"u_opt\", u_opt)\n",
    "\n",
    "# Open a file and use dump()\n",
    "# if solve_second_optim:\n",
    "#     pass\n",
    "# else:\n",
    "#     with open(\"opt_guess_with_beta_dot.pkl\", \"wb\") as file:\n",
    "#         # A new file will be created\n",
    "#         pickle.dump(opt_guess, file)"
   ]
  },
  {
   "cell_type": "code",
   "execution_count": null,
   "id": "76e5889d",
   "metadata": {},
   "outputs": [],
   "source": [
    "with open(\"opt_guess_with_beta_dot.pkl\", \"wb\") as file:\n",
    "    # A new file will be created\n",
    "    pickle.dump(opt_guess, file)"
   ]
  },
  {
   "cell_type": "code",
   "execution_count": null,
   "id": "03f0b7fc",
   "metadata": {},
   "outputs": [],
   "source": [
    "def construct_initial_guess(\n",
    "    x_opt: np.ndarray, u_opt: np.ndarray, N: int, p0: float\n",
    ") -> list:\n",
    "    \"\"\"\n",
    "    Construct an initial guess for the new N\n",
    "    \"\"\"\n",
    "    w0 = []\n",
    "    for i in range(N + 1):\n",
    "        state = list(x_opt[:, i])\n",
    "        if i == 0:\n",
    "            w0.append([p0])\n",
    "            w0.append(state)\n",
    "            u = [u_opt[0, i]]\n",
    "            w0.append(u)\n",
    "        elif i == N:\n",
    "            for j in range(4):\n",
    "                w0.append(state)\n",
    "        elif i > 0 and i < N:\n",
    "            for j in range(4):\n",
    "                w0.append(state)\n",
    "            u = [u_opt[0, i]]\n",
    "            w0.append(u)\n",
    "    return w0\n",
    "\n",
    "\n",
    "w0 = construct_initial_guess(x_opt, u_opt, N=N, p0=17)\n",
    "w0_arr = np.concatenate(w0)\n",
    "np.save(\"w0\", w0_arr)\n",
    "\n",
    "\n",
    "# This code takes a solution from a simulation with N control steps and\n",
    "# upsamples it so it can be used as an intial guess for a simulation with 2*N\n",
    "# control steps\n",
    "def upsampled_initial_guess(w0: list) -> list:\n",
    "    \"\"\"\n",
    "    Creates an initial guess for a problem with 2*N control intervals.\n",
    "\n",
    "    Starts with a guess for a solution to the problem with N intervals.\n",
    "\n",
    "    Parameters\n",
    "    ----------\n",
    "    w0 : list\n",
    "        Initial control parameters.\n",
    "\n",
    "    Returns\n",
    "    -------\n",
    "    w_new : list\n",
    "        Initial guess for problem with 2*N control intervals.\n",
    "    \"\"\"\n",
    "    w_new = []\n",
    "    w_new.append(w0[0])\n",
    "    w_new.append(w0[1])\n",
    "    new_N = 2 * N\n",
    "    for i in range(N):\n",
    "        for k in range(2):\n",
    "            w_new.append([u_opt[0, i]])\n",
    "            for j in range(4):\n",
    "                state = list(x_opt[:, i + 1])\n",
    "                w_new.append(state)\n",
    "    return w_new\n",
    "\n",
    "\n",
    "w_new = upsampled_initial_guess(w0)\n",
    "w_new_arr = np.concatenate(w_new)\n",
    "np.save(\"double_w0\", w_new_arr)"
   ]
  },
  {
   "cell_type": "code",
   "execution_count": null,
   "id": "ba655680",
   "metadata": {},
   "outputs": [],
   "source": [
    "# # generate the videos\n",
    "# create_video = solve_second_optim\n",
    "# if create_video:\n",
    "#     !python trajectory_viz.py\n",
    "#     if energy_optimal:\n",
    "#         !mkdir energy_opt\n",
    "#         !mv u_opt.npy x_opt.npy logged_info.png sample_oct.mp4 w0.npy double_w0.npy energy_opt\n",
    "#     else:\n",
    "#         !mkdir time_opt\n",
    "#         !mv u_opt.npy x_opt.npy logged_info.png sample_oct.mp4 w0.npy double_w0.npy time_opt"
   ]
  },
  {
   "cell_type": "code",
   "execution_count": null,
   "id": "b9ec348c",
   "metadata": {},
   "outputs": [],
   "source": [
    "!python trajectory_viz.py"
   ]
  },
  {
   "cell_type": "code",
   "execution_count": null,
   "id": "f0f8cd39",
   "metadata": {},
   "outputs": [],
   "source": []
  }
 ],
 "metadata": {
  "kernelspec": {
   "display_name": "gliding",
   "language": "python",
   "name": "gliding"
  },
  "language_info": {
   "codemirror_mode": {
    "name": "ipython",
    "version": 3
   },
   "file_extension": ".py",
   "mimetype": "text/x-python",
   "name": "python",
   "nbconvert_exporter": "python",
   "pygments_lexer": "ipython3",
   "version": "3.7.4"
  }
 },
 "nbformat": 4,
 "nbformat_minor": 5
}
