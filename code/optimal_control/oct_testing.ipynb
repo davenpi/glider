{
 "cells": [
  {
   "cell_type": "code",
   "execution_count": null,
   "id": "cb3d38ae",
   "metadata": {},
   "outputs": [],
   "source": [
    "from glider import glider\n",
    "import casadi as ca\n",
    "import numpy as np\n",
    "import matplotlib.pyplot as plt"
   ]
  },
  {
   "cell_type": "code",
   "execution_count": null,
   "id": "67d5a516",
   "metadata": {},
   "outputs": [],
   "source": [
    "N = 300\n",
    "x_opt, u_opt, opt_guess, sol = glider(\n",
    "    N=N,\n",
    "    use_upsampled_prior=False,\n",
    "    y_f=-10,\n",
    "    x_f=0,\n",
    "    solve_2nd_optim=False,\n",
    "    using_opt_guess=False,\n",
    "    energy_optimal=False,\n",
    ")"
   ]
  },
  {
   "cell_type": "code",
   "execution_count": null,
   "id": "2f51d9ad",
   "metadata": {},
   "outputs": [],
   "source": [
    "tgrid = np.linspace(0, 1, N + 1)\n",
    "final_x = x_opt[3][-1]\n",
    "print(f\"The final x is {final_x}\")\n",
    "\n",
    "# plot results\n",
    "fig, ax = plt.subplots(nrows=2, ncols=2, figsize=(12, 8))\n",
    "ax[0, 0].plot(x_opt[3], x_opt[4])\n",
    "ax[0, 0].set_title(\"Trajectory\")\n",
    "ax[0, 1].plot(tgrid, x_opt[-1])\n",
    "ax[0, 1].set_title(\"Beta\")\n",
    "ax[1, 0].plot(tgrid, x_opt[0])\n",
    "ax[1, 0].plot(tgrid, x_opt[1])\n",
    "ax[1, 0].legend((\"u\", \"v\"))\n",
    "ax[1, 1].plot(tgrid, np.append(np.nan, u_opt[0]))\n",
    "ax[1, 1].set_title(\"Control\")\n",
    "plt.show()"
   ]
  },
  {
   "cell_type": "code",
   "execution_count": null,
   "id": "4d587d3c",
   "metadata": {},
   "outputs": [],
   "source": [
    "x = x_opt[3]\n",
    "beta_dot = u_opt[0]"
   ]
  },
  {
   "cell_type": "code",
   "execution_count": null,
   "id": "0104bc3d",
   "metadata": {},
   "outputs": [],
   "source": [
    "opt_guess"
   ]
  },
  {
   "cell_type": "code",
   "execution_count": null,
   "id": "9e94b990",
   "metadata": {},
   "outputs": [],
   "source": [
    "x_cost = -np.sum(x**2)\n",
    "control_cost = np.sum(beta_dot**2)\n",
    "total_cost = x_cost + control_cost\n",
    "print(f\"The control cost is {control_cost}\\n\")\n",
    "print(f\"The position cost is {x_cost}\\n\")\n",
    "print(f\"The total cost is {total_cost}\")"
   ]
  },
  {
   "cell_type": "code",
   "execution_count": null,
   "id": "7825ada8",
   "metadata": {},
   "outputs": [],
   "source": [
    "x_cost / control_cost"
   ]
  },
  {
   "cell_type": "code",
   "execution_count": null,
   "id": "d507eba9",
   "metadata": {},
   "outputs": [],
   "source": [
    "np.save(\"optimal_x\", x_opt)\n",
    "np.save(\"optimal_u\", u_opt)\n",
    "import pickle\n",
    "\n",
    "# Open a file and use dump()\n",
    "with open(\"opt_guess_with_beta_dot.pkl\", \"wb\") as file:\n",
    "    # A new file will be created\n",
    "    pickle.dump(opt_guess, file)"
   ]
  },
  {
   "cell_type": "code",
   "execution_count": null,
   "id": "35daba75",
   "metadata": {},
   "outputs": [],
   "source": [
    "def construct_initial_guess(\n",
    "    x_opt: np.ndarray, u_opt: np.ndarray, N: int, p0: float\n",
    ") -> list:\n",
    "    \"\"\"\n",
    "    Construct an initial guess for the new N\n",
    "    \"\"\"\n",
    "    w0 = []\n",
    "    for i in range(N + 1):\n",
    "        state = list(x_opt[:, i])\n",
    "        if i == 0:\n",
    "            w0.append([p0])\n",
    "            w0.append(state)\n",
    "            u = [u_opt[0, i]]\n",
    "            w0.append(u)\n",
    "        elif i == N:\n",
    "            for j in range(4):\n",
    "                w0.append(state)\n",
    "        elif i > 0 and i < N:\n",
    "            for j in range(4):\n",
    "                w0.append(state)\n",
    "            u = [u_opt[0, i]]\n",
    "            w0.append(u)\n",
    "    return w0\n",
    "\n",
    "\n",
    "w0 = construct_initial_guess(x_opt, u_opt, N=N, p0=17)\n",
    "w0_arr = np.concatenate(w0)\n",
    "np.save(\"w0\", w0_arr)\n",
    "\n",
    "\n",
    "# This code takes a solution from a simulation with N control steps and\n",
    "# upsamples it so it can be used as an intial guess for a simulation with 2*N\n",
    "# control steps\n",
    "def upsampled_initial_guess(w0: list) -> list:\n",
    "    \"\"\"\n",
    "    Creates an initial guess for a problem with 2*N control intervals.\n",
    "\n",
    "    Starts with a guess for a solution to the problem with N intervals.\n",
    "\n",
    "    Parameters\n",
    "    ----------\n",
    "    w0 : list\n",
    "        Initial control parameters.\n",
    "\n",
    "    Returns\n",
    "    -------\n",
    "    w_new : list\n",
    "        Initial guess for problem with 2*N control intervals.\n",
    "    \"\"\"\n",
    "    w_new = []\n",
    "    w_new.append(w0[0])\n",
    "    w_new.append(w0[1])\n",
    "    new_N = 2 * N\n",
    "    for i in range(N):\n",
    "        for k in range(2):\n",
    "            w_new.append([u_opt[0, i]])\n",
    "            for j in range(4):\n",
    "                state = list(x_opt[:, i + 1])\n",
    "                w_new.append(state)\n",
    "    return w_new\n",
    "\n",
    "\n",
    "w_new = upsampled_initial_guess(w0)\n",
    "w_new_arr = np.concatenate(w_new)\n",
    "np.save(\"double_w0\", w_new_arr)"
   ]
  },
  {
   "cell_type": "code",
   "execution_count": null,
   "id": "c7dda664",
   "metadata": {},
   "outputs": [],
   "source": [
    "!python trajectory_viz.py"
   ]
  },
  {
   "cell_type": "code",
   "execution_count": null,
   "id": "5abee3d5",
   "metadata": {},
   "outputs": [],
   "source": []
  }
 ],
 "metadata": {
  "kernelspec": {
   "display_name": "gliding",
   "language": "python",
   "name": "gliding"
  },
  "language_info": {
   "codemirror_mode": {
    "name": "ipython",
    "version": 3
   },
   "file_extension": ".py",
   "mimetype": "text/x-python",
   "name": "python",
   "nbconvert_exporter": "python",
   "pygments_lexer": "ipython3",
   "version": "3.7.4"
  }
 },
 "nbformat": 4,
 "nbformat_minor": 5
}
