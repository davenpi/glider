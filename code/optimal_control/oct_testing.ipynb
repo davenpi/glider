{
 "cells": [
  {
   "cell_type": "code",
   "execution_count": null,
   "id": "e8587d7e",
   "metadata": {},
   "outputs": [],
   "source": [
    "from glider import glider\n",
    "import casadi as ca\n",
    "import numpy as np\n",
    "import matplotlib.pyplot as plt"
   ]
  },
  {
   "cell_type": "code",
   "execution_count": null,
   "id": "39fe5087",
   "metadata": {},
   "outputs": [],
   "source": [
    "N = 100\n",
    "x_opt, u_opt, opt_guess, sol = glider(N=N)"
   ]
  },
  {
   "cell_type": "code",
   "execution_count": null,
   "id": "2f3f44a7",
   "metadata": {},
   "outputs": [],
   "source": [
    "np.save(\"optimal_sol\", x_opt)\n",
    "np.save(\"optimal_u\", u_opt)"
   ]
  },
  {
   "cell_type": "code",
   "execution_count": null,
   "id": "aeb8d05e",
   "metadata": {},
   "outputs": [],
   "source": [
    "plt.plot(x_opt[0])\n",
    "plt.plot(x_opt[1])\n",
    "plt.legend([\"u\", \"v\"])\n",
    "plt.show()"
   ]
  },
  {
   "cell_type": "code",
   "execution_count": null,
   "id": "a95c5b3a",
   "metadata": {},
   "outputs": [],
   "source": [
    "plt.plot(x_opt[3], x_opt[4])\n",
    "plt.title(\"Trajectory\")\n",
    "plt.show()"
   ]
  },
  {
   "cell_type": "code",
   "execution_count": null,
   "id": "29182f22",
   "metadata": {},
   "outputs": [],
   "source": [
    "plt.plot(x_opt[6])\n",
    "plt.title(\"Beta\")\n",
    "plt.show()"
   ]
  },
  {
   "cell_type": "code",
   "execution_count": null,
   "id": "689c06c5",
   "metadata": {},
   "outputs": [],
   "source": [
    "x_opt[3]"
   ]
  },
  {
   "cell_type": "code",
   "execution_count": null,
   "id": "94859ad3",
   "metadata": {},
   "outputs": [],
   "source": [
    "x_opt[4]"
   ]
  },
  {
   "cell_type": "code",
   "execution_count": null,
   "id": "669cb1e5",
   "metadata": {},
   "outputs": [],
   "source": [
    "opt_guess"
   ]
  },
  {
   "cell_type": "code",
   "execution_count": null,
   "id": "147658f3",
   "metadata": {},
   "outputs": [],
   "source": [
    "import pickle\n",
    "\n",
    "# Open a file and use dump()\n",
    "with open(\"file.pkl\", \"wb\") as file:\n",
    "    # A new file will be created\n",
    "    pickle.dump(opt_guess, file)"
   ]
  },
  {
   "cell_type": "code",
   "execution_count": null,
   "id": "e9088fef",
   "metadata": {},
   "outputs": [],
   "source": [
    "# Open the file in binary mode\n",
    "with open(\"file.pkl\", \"rb\") as file:\n",
    "    # Call load method to deserialze\n",
    "    opt_guess = pickle.load(file)"
   ]
  },
  {
   "cell_type": "code",
   "execution_count": null,
   "id": "83d903b1",
   "metadata": {},
   "outputs": [],
   "source": [
    "def construct_initial_guess(\n",
    "    x_opt: np.ndarray, u_opt: np.ndarray, N: int, p0: float\n",
    ") -> list:\n",
    "    \"\"\"\n",
    "    Construct an initial guess for the new N\n",
    "    \"\"\"\n",
    "    w0 = []\n",
    "    for i in range(N + 1):\n",
    "        state = list(x_opt[:, i])\n",
    "        if i == 0:\n",
    "            w0.append([p0])\n",
    "            w0.append(state)\n",
    "            u = [u_opt[0, i]]\n",
    "            w0.append(u)\n",
    "        elif i == N:\n",
    "            for j in range(4):\n",
    "                w0.append(state)\n",
    "        elif i > 0 and i < N:\n",
    "            for j in range(4):\n",
    "                w0.append(state)\n",
    "            u = [u_opt[0, i]]\n",
    "            w0.append(u)\n",
    "    return w0"
   ]
  },
  {
   "cell_type": "code",
   "execution_count": null,
   "id": "cd088e1d",
   "metadata": {},
   "outputs": [],
   "source": [
    "w0 = construct_initial_guess(x_opt, u_opt, N=N, p0=17)\n",
    "w0_arr = np.concatenate(w0)"
   ]
  },
  {
   "cell_type": "code",
   "execution_count": null,
   "id": "7a26373e",
   "metadata": {},
   "outputs": [],
   "source": [
    "np.save(\"w0\", w0_arr)"
   ]
  },
  {
   "cell_type": "code",
   "execution_count": null,
   "id": "672ceae4",
   "metadata": {},
   "outputs": [],
   "source": [
    "# This code takes a solution from a simulation with N control steps and\n",
    "# upsamples it so it can be used as an intial guess for a simulation with 2*N\n",
    "# control steps\n",
    "w_new = []\n",
    "w_new.append(w0[0])\n",
    "w_new.append(w0[1])\n",
    "new_N = 2 * N\n",
    "for i in range(N):\n",
    "    for k in range(2):\n",
    "        w_new.append([u_opt[0, i]])\n",
    "        for j in range(4):\n",
    "            state = list(x_opt[:, i + 1])\n",
    "            w_new.append(state)"
   ]
  },
  {
   "cell_type": "code",
   "execution_count": null,
   "id": "8dbd1aac",
   "metadata": {},
   "outputs": [],
   "source": [
    "w_new_arr = np.concatenate(w_new)"
   ]
  },
  {
   "cell_type": "code",
   "execution_count": null,
   "id": "bdabe661",
   "metadata": {},
   "outputs": [],
   "source": [
    "np.save(\"double_w0\", w_new_arr)"
   ]
  },
  {
   "cell_type": "code",
   "execution_count": null,
   "id": "0cef304b",
   "metadata": {},
   "outputs": [],
   "source": [
    "plt.plot(u_opt[0])"
   ]
  },
  {
   "cell_type": "code",
   "execution_count": null,
   "id": "1f92a1cb",
   "metadata": {},
   "outputs": [],
   "source": []
  }
 ],
 "metadata": {
  "kernelspec": {
   "display_name": "gliding",
   "language": "python",
   "name": "gliding"
  },
  "language_info": {
   "codemirror_mode": {
    "name": "ipython",
    "version": 3
   },
   "file_extension": ".py",
   "mimetype": "text/x-python",
   "name": "python",
   "nbconvert_exporter": "python",
   "pygments_lexer": "ipython3",
   "version": "3.7.4"
  }
 },
 "nbformat": 4,
 "nbformat_minor": 5
}
