{
 "cells": [
  {
   "cell_type": "code",
   "execution_count": null,
   "id": "8c8e673e",
   "metadata": {},
   "outputs": [],
   "source": [
    "from glider import glider\n",
    "import casadi as ca\n",
    "import numpy as np\n",
    "import matplotlib.pyplot as plt"
   ]
  },
  {
   "cell_type": "code",
   "execution_count": null,
   "id": "453ed163",
   "metadata": {},
   "outputs": [],
   "source": [
    "N = 100\n",
    "x_opt, u_opt, opt_guess, sol = glider(N=N, \n",
    "                                      use_upsampled_prior=False, \n",
    "                                      y_f = -50, \n",
    "                                      x_f = 0, \n",
    "                                      solve_2nd_optim=False, \n",
    "                                      using_opt_guess=False, \n",
    "                                      energy_optimal=False)"
   ]
  },
  {
   "cell_type": "code",
   "execution_count": null,
   "id": "4e54f146",
   "metadata": {},
   "outputs": [],
   "source": [
    "np.save(\"optimal_x\", x_opt)\n",
    "np.save(\"optimal_u\", u_opt)"
   ]
  },
  {
   "cell_type": "code",
   "execution_count": null,
   "id": "a6778b99",
   "metadata": {},
   "outputs": [],
   "source": [
    "import pickle\n",
    "\n",
    "# Open a file and use dump()\n",
    "with open(\"opt_guess_with_beta_dot.pkl\", \"wb\") as file:\n",
    "    # A new file will be created\n",
    "    pickle.dump(opt_guess, file)"
   ]
  },
  {
   "cell_type": "code",
   "execution_count": null,
   "id": "25a75a41",
   "metadata": {},
   "outputs": [],
   "source": [
    "def construct_initial_guess(\n",
    "    x_opt: np.ndarray, u_opt: np.ndarray, N: int, p0: float\n",
    ") -> list:\n",
    "    \"\"\"\n",
    "    Construct an initial guess for the new N\n",
    "    \"\"\"\n",
    "    w0 = []\n",
    "    for i in range(N + 1):\n",
    "        state = list(x_opt[:, i])\n",
    "        if i == 0:\n",
    "            w0.append([p0])\n",
    "            w0.append(state)\n",
    "            u = [u_opt[0, i]]\n",
    "            w0.append(u)\n",
    "        elif i == N:\n",
    "            for j in range(4):\n",
    "                w0.append(state)\n",
    "        elif i > 0 and i < N:\n",
    "            for j in range(4):\n",
    "                w0.append(state)\n",
    "            u = [u_opt[0, i]]\n",
    "            w0.append(u)\n",
    "    return w0"
   ]
  },
  {
   "cell_type": "code",
   "execution_count": null,
   "id": "b4d72f77",
   "metadata": {},
   "outputs": [],
   "source": [
    "w0 = construct_initial_guess(x_opt, u_opt, N=N, p0=17)\n",
    "w0_arr = np.concatenate(w0)\n",
    "np.save(\"w0\", w0_arr)"
   ]
  },
  {
   "cell_type": "code",
   "execution_count": null,
   "id": "a94b49bf",
   "metadata": {},
   "outputs": [],
   "source": [
    "# This code takes a solution from a simulation with N control steps and\n",
    "# upsamples it so it can be used as an intial guess for a simulation with 2*N\n",
    "# control steps\n",
    "def upsampled_initial_guess(w0: list) -> list:\n",
    "    \"\"\"\n",
    "    Creates an initial guess for a problem with 2*N control intervals.\n",
    "\n",
    "    Starts with a guess for a solution to the problem with N intervals.\n",
    "\n",
    "    Parameters\n",
    "    ----------\n",
    "    w0 : list\n",
    "        Initial control parameters.\n",
    "\n",
    "    Returns\n",
    "    -------\n",
    "    w_new : list\n",
    "        Initial guess for problem with 2*N control intervals.\n",
    "    \"\"\"\n",
    "    w_new = []\n",
    "    w_new.append(w0[0])\n",
    "    w_new.append(w0[1])\n",
    "    new_N = 2 * N\n",
    "    for i in range(N):\n",
    "        for k in range(2):\n",
    "            w_new.append([u_opt[0, i]])\n",
    "            for j in range(4):\n",
    "                state = list(x_opt[:, i + 1])\n",
    "                w_new.append(state)\n",
    "    return w_new\n",
    "\n",
    "\n",
    "w_new = upsampled_initial_guess(w0)\n",
    "w_new_arr = np.concatenate(w_new)\n",
    "np.save(\"double_w0\", w_new_arr)"
   ]
  },
  {
   "cell_type": "code",
   "execution_count": null,
   "id": "28434760",
   "metadata": {},
   "outputs": [],
   "source": [
    "final_x = x_opt[3][-1]\n",
    "print(f\"The final x is {final_x}\")"
   ]
  },
  {
   "cell_type": "code",
   "execution_count": null,
   "id": "f0631a9f",
   "metadata": {},
   "outputs": [],
   "source": [
    "tgrid = np.linspace(0, 1, N + 1)"
   ]
  },
  {
   "cell_type": "code",
   "execution_count": null,
   "id": "bc880c2c",
   "metadata": {},
   "outputs": [],
   "source": [
    "plt.plot(x_opt[3], x_opt[4])\n",
    "plt.title(\"Trajectory\")\n",
    "plt.show()"
   ]
  },
  {
   "cell_type": "code",
   "execution_count": null,
   "id": "18b18405",
   "metadata": {},
   "outputs": [],
   "source": [
    "#plt.plot(tgrid, u_opt[0])\n",
    "plt.step(tgrid, np.append(np.nan, u_opt[0]))\n",
    "plt.title(\"Control\")\n",
    "plt.show()"
   ]
  },
  {
   "cell_type": "code",
   "execution_count": null,
   "id": "afcfe983",
   "metadata": {},
   "outputs": [],
   "source": []
  },
  {
   "cell_type": "code",
   "execution_count": null,
   "id": "9f6d66bb",
   "metadata": {},
   "outputs": [],
   "source": []
  }
 ],
 "metadata": {
  "kernelspec": {
   "display_name": "gliding",
   "language": "python",
   "name": "gliding"
  },
  "language_info": {
   "codemirror_mode": {
    "name": "ipython",
    "version": 3
   },
   "file_extension": ".py",
   "mimetype": "text/x-python",
   "name": "python",
   "nbconvert_exporter": "python",
   "pygments_lexer": "ipython3",
   "version": "3.7.4"
  }
 },
 "nbformat": 4,
 "nbformat_minor": 5
}
