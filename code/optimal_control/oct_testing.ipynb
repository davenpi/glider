{
 "cells": [
  {
   "cell_type": "code",
   "execution_count": null,
   "id": "2827d9f4",
   "metadata": {},
   "outputs": [],
   "source": [
    "from glider import glider\n",
    "import casadi as ca\n",
    "import numpy as np\n",
    "import matplotlib.pyplot as plt"
   ]
  },
  {
   "cell_type": "code",
   "execution_count": null,
   "id": "3e68aaac",
   "metadata": {},
   "outputs": [],
   "source": [
    "N = 400\n",
    "x_opt, u_opt, opt_guess, sol = glider(N=N)"
   ]
  },
  {
   "cell_type": "code",
   "execution_count": null,
   "id": "ea09cfea",
   "metadata": {},
   "outputs": [],
   "source": [
    "np.save(\"optimal_sol\", x_opt)"
   ]
  },
  {
   "cell_type": "code",
   "execution_count": null,
   "id": "b36fc1b8",
   "metadata": {},
   "outputs": [],
   "source": [
    "plt.plot(x_opt[0])\n",
    "plt.plot(x_opt[1])\n",
    "plt.legend([\"u\", \"v\"])\n",
    "plt.show()"
   ]
  },
  {
   "cell_type": "code",
   "execution_count": null,
   "id": "585d0ea7",
   "metadata": {},
   "outputs": [],
   "source": [
    "import pickle\n",
    "\n",
    "# Open a file and use dump()\n",
    "with open(\"file.pkl\", \"wb\") as file:\n",
    "    # A new file will be created\n",
    "    pickle.dump(opt_guess, file)"
   ]
  },
  {
   "cell_type": "code",
   "execution_count": null,
   "id": "dfdf3245",
   "metadata": {},
   "outputs": [],
   "source": [
    "# Open the file in binary mode\n",
    "with open(\"file.pkl\", \"rb\") as file:\n",
    "    # Call load method to deserialze\n",
    "    opt_guess = pickle.load(file)"
   ]
  },
  {
   "cell_type": "code",
   "execution_count": null,
   "id": "7b0e1173",
   "metadata": {},
   "outputs": [],
   "source": [
    "def construct_initial_guess(\n",
    "    x_opt: np.ndarray, u_opt: np.ndarray, N: int, p0: float\n",
    ") -> list:\n",
    "    \"\"\"\n",
    "    Construct an initial guess for the new N\n",
    "    \"\"\"\n",
    "    w0 = []\n",
    "    for i in range(N + 1):\n",
    "        state = list(x_opt[:, i])\n",
    "        if i == 0:\n",
    "            w0.append([p0])\n",
    "            w0.append(state)\n",
    "            u = [u_opt[0, i]]\n",
    "            w0.append(u)\n",
    "        elif i == N:\n",
    "            for j in range(4):\n",
    "                w0.append(state)\n",
    "        elif i > 0 and i < N:\n",
    "            for j in range(4):\n",
    "                w0.append(state)\n",
    "            u = [u_opt[0, i]]\n",
    "            w0.append(u)\n",
    "    return w0"
   ]
  },
  {
   "cell_type": "code",
   "execution_count": null,
   "id": "83c598f2",
   "metadata": {},
   "outputs": [],
   "source": [
    "w0 = construct_initial_guess(x_opt, u_opt, N=N, p0=17)\n",
    "w0_arr = np.concatenate(w0)"
   ]
  },
  {
   "cell_type": "code",
   "execution_count": null,
   "id": "57816a5d",
   "metadata": {},
   "outputs": [],
   "source": [
    "np.save(\"test_w0\", w0_arr)"
   ]
  },
  {
   "cell_type": "code",
   "execution_count": null,
   "id": "374210b5",
   "metadata": {},
   "outputs": [],
   "source": [
    "# This code takes an initial guess for a simulation with N control steps and\n",
    "# upsamples it so it can be used for a simulation with 2*N control steps\n",
    "w_new = []\n",
    "w_new.append(w0[0])\n",
    "w_new.append(w0[1])\n",
    "new_N = 2 * N\n",
    "for i in range(N):\n",
    "    for k in range(2):\n",
    "        w_new.append([u_opt[0, i]])\n",
    "        for j in range(4):\n",
    "            state = list(x_opt[:, i + 1])\n",
    "            w_new.append(state)"
   ]
  },
  {
   "cell_type": "code",
   "execution_count": null,
   "id": "c67e775d",
   "metadata": {},
   "outputs": [],
   "source": [
    "w_new_arr = np.concatenate(w_new)"
   ]
  },
  {
   "cell_type": "code",
   "execution_count": null,
   "id": "70767ad6",
   "metadata": {},
   "outputs": [],
   "source": [
    "np.save(\"test_w0\", w_new_arr)"
   ]
  },
  {
   "cell_type": "code",
   "execution_count": null,
   "id": "4e84dc72",
   "metadata": {},
   "outputs": [],
   "source": []
  }
 ],
 "metadata": {
  "kernelspec": {
   "display_name": "gliding",
   "language": "python",
   "name": "gliding"
  },
  "language_info": {
   "codemirror_mode": {
    "name": "ipython",
    "version": 3
   },
   "file_extension": ".py",
   "mimetype": "text/x-python",
   "name": "python",
   "nbconvert_exporter": "python",
   "pygments_lexer": "ipython3",
   "version": "3.7.4"
  }
 },
 "nbformat": 4,
 "nbformat_minor": 5
}
