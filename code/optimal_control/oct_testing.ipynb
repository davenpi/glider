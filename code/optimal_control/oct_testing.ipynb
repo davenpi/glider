{
 "cells": [
  {
   "cell_type": "code",
   "execution_count": null,
   "id": "9e5200a5",
   "metadata": {},
   "outputs": [],
   "source": [
    "from glider import glider\n",
    "import casadi as ca\n",
    "import numpy as np\n",
    "import matplotlib.pyplot as plt"
   ]
  },
  {
   "cell_type": "code",
   "execution_count": null,
   "id": "9d68f9d2",
   "metadata": {},
   "outputs": [],
   "source": [
    "x_opt, u_opt, opt_guess, sol = glider()"
   ]
  },
  {
   "cell_type": "code",
   "execution_count": null,
   "id": "189d4cc5",
   "metadata": {},
   "outputs": [],
   "source": [
    "plt.scatter(x_opt[3], x_opt[4])"
   ]
  },
  {
   "cell_type": "code",
   "execution_count": null,
   "id": "ce5fda82",
   "metadata": {},
   "outputs": [],
   "source": [
    "plt.plot(x_opt[0])\n",
    "plt.plot(x_opt[1])\n",
    "plt.legend((\"u\", \"v\"))\n",
    "plt.show()"
   ]
  },
  {
   "cell_type": "code",
   "execution_count": null,
   "id": "c4ec2914",
   "metadata": {},
   "outputs": [],
   "source": [
    "plt.plot(x_opt[5])\n",
    "plt.show()"
   ]
  },
  {
   "cell_type": "code",
   "execution_count": null,
   "id": "4b8c633c",
   "metadata": {},
   "outputs": [],
   "source": [
    "import pickle\n",
    "\n",
    "# Open a file and use dump()\n",
    "with open(\"file.pkl\", \"wb\") as file:\n",
    "    # A new file will be created\n",
    "    pickle.dump(opt_guess, file)"
   ]
  },
  {
   "cell_type": "code",
   "execution_count": null,
   "id": "bb77d165",
   "metadata": {},
   "outputs": [],
   "source": [
    "# Open the file in binary mode\n",
    "with open(\"file.pkl\", \"rb\") as file:\n",
    "    # Call load method to deserialze\n",
    "    opt_guess = pickle.load(file)"
   ]
  },
  {
   "cell_type": "code",
   "execution_count": null,
   "id": "b527a636",
   "metadata": {},
   "outputs": [],
   "source": [
    "x_opt.shape[-1]"
   ]
  },
  {
   "cell_type": "code",
   "execution_count": null,
   "id": "ab3dad81",
   "metadata": {},
   "outputs": [],
   "source": [
    "def construct_initial_guess(\n",
    "    x_opt: np.ndarray, u_opt: np.ndarray, N: int, p0: float\n",
    ") -> list:\n",
    "    \"\"\"\n",
    "    Construct an initial guess for the new N\n",
    "    \"\"\"\n",
    "    w0 = []\n",
    "    for i in range(N + 1):\n",
    "        state = list(x_opt[:, i])\n",
    "        if i == 0:\n",
    "            w0.append([p0])\n",
    "            w0.append(state)\n",
    "            u = [u_opt[0, i]]\n",
    "            w0.append(u)\n",
    "        elif i == N:\n",
    "            for i in range(4):\n",
    "                w0.append(state)\n",
    "        else:\n",
    "            for i in range(4):\n",
    "                w0.append(state)\n",
    "            u = [u_opt[0, i]]\n",
    "            w0.append(u)\n",
    "    return w0"
   ]
  },
  {
   "cell_type": "code",
   "execution_count": null,
   "id": "96dea4fe",
   "metadata": {},
   "outputs": [],
   "source": [
    "w0 = construct_initial_guess(x_opt, u_opt, N=100, p0=17)\n",
    "w0_arr = np.concatenate(w0)"
   ]
  },
  {
   "cell_type": "code",
   "execution_count": null,
   "id": "2f501efe",
   "metadata": {},
   "outputs": [],
   "source": [
    "np.save(\"test_w0\", w0_arr)"
   ]
  },
  {
   "cell_type": "code",
   "execution_count": null,
   "id": "f39712dc",
   "metadata": {},
   "outputs": [],
   "source": []
  },
  {
   "cell_type": "code",
   "execution_count": null,
   "id": "8ccc8e0b",
   "metadata": {},
   "outputs": [],
   "source": []
  }
 ],
 "metadata": {
  "kernelspec": {
   "display_name": "gliding",
   "language": "python",
   "name": "gliding"
  },
  "language_info": {
   "codemirror_mode": {
    "name": "ipython",
    "version": 3
   },
   "file_extension": ".py",
   "mimetype": "text/x-python",
   "name": "python",
   "nbconvert_exporter": "python",
   "pygments_lexer": "ipython3",
   "version": "3.7.4"
  }
 },
 "nbformat": 4,
 "nbformat_minor": 5
}
