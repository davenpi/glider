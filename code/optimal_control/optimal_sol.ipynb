{
 "cells": [
  {
   "cell_type": "code",
   "execution_count": null,
   "id": "747888fd",
   "metadata": {},
   "outputs": [],
   "source": [
    "from glider import glider\n",
    "from optimal_sol import optimal_glider\n",
    "import casadi as ca\n",
    "import numpy as np\n",
    "import matplotlib.pyplot as plt\n",
    "import pickle\n",
    "import os\n",
    "import shutil"
   ]
  },
  {
   "cell_type": "markdown",
   "id": "46c45ecb",
   "metadata": {},
   "source": [
    "## Run the code to find the energy optimal solutions using the time optimal solutions as initial guesses."
   ]
  },
  {
   "cell_type": "code",
   "execution_count": null,
   "id": "f7d9d3ee",
   "metadata": {},
   "outputs": [],
   "source": [
    "N = 400\n",
    "y_f = np.array([-10, -15, -20])\n",
    "x_f = -1.2 * y_f\n",
    "\n",
    "i = 0\n",
    "for i in range(y_f.size):\n",
    "    yf, xf = y_f[i], x_f[i]\n",
    "    time_opt_dir = f\"yf{-yf}_xf{int(xf)}/time_opt\"\n",
    "    with open(time_opt_dir + \"/solx.pkl\", \"rb\") as file:\n",
    "        opt_guess = pickle.load(file)\n",
    "    x_opt, u_opt, sol_x, _ = optimal_glider(\n",
    "        y_f=yf,\n",
    "        x_f=xf,\n",
    "        N=N,\n",
    "        energy_optimal=True,\n",
    "        use_upsampled_prior=False,\n",
    "        opt_guess=opt_guess,\n",
    "    )\n",
    "    new_dir = f\"yf{-yf}_xf{int(xf)}/energy_opt\"\n",
    "    os.mkdir(new_dir)\n",
    "    with open(new_dir + \"/solx.pkl\", \"wb\") as file:\n",
    "        # A new file will be created\n",
    "        pickle.dump(sol_x, file)\n",
    "    np.save(new_dir + \"/x_opt\", x_opt)\n",
    "    np.save(new_dir + \"/u_opt\", u_opt)"
   ]
  },
  {
   "cell_type": "code",
   "execution_count": null,
   "id": "61bbf8d7",
   "metadata": {},
   "outputs": [],
   "source": [
    "sol_x"
   ]
  },
  {
   "cell_type": "code",
   "execution_count": null,
   "id": "47ef5439",
   "metadata": {},
   "outputs": [],
   "source": []
  }
 ],
 "metadata": {
  "kernelspec": {
   "display_name": "gliding",
   "language": "python",
   "name": "gliding"
  },
  "language_info": {
   "codemirror_mode": {
    "name": "ipython",
    "version": 3
   },
   "file_extension": ".py",
   "mimetype": "text/x-python",
   "name": "python",
   "nbconvert_exporter": "python",
   "pygments_lexer": "ipython3",
   "version": "3.7.4"
  }
 },
 "nbformat": 4,
 "nbformat_minor": 5
}
